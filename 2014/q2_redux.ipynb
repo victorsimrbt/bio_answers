{
 "cells": [
  {
   "cell_type": "code",
   "execution_count": null,
   "metadata": {},
   "outputs": [],
   "source": [
    "square = [[[0,-1,0],\n",
    "          [1,0,1],\n",
    "          [0,-1,0]],\n",
    "          \n",
    "          [[0,1,0],\n",
    "          [-1,1,-1],\n",
    "          [0,1,0]],\n",
    "          \n",
    "          [[0,1,0],\n",
    "          [1,0,-1],\n",
    "          [0,-1,0]],\n",
    "          \n",
    "          [[0,1,0],\n",
    "          [1,0,-1],\n",
    "          [0,-1,0]]"
   ]
  }
 ],
 "metadata": {
  "language_info": {
   "name": "python"
  },
  "orig_nbformat": 4
 },
 "nbformat": 4,
 "nbformat_minor": 2
}
