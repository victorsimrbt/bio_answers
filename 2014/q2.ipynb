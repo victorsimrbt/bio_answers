{
 "cells": [
  {
   "cell_type": "code",
   "execution_count": 187,
   "metadata": {},
   "outputs": [],
   "source": [
    "'''\n",
    "Red is solid, green is dashed\n",
    "Lines touching form a loop\n",
    "If differenct colour line touch, seperate\n",
    "Begins on first tile and ends up on first tile\n",
    "'''\n",
    "import numpy as np\n",
    "\n",
    "square_points = [[[1,0],[1,2]],\n",
    "         [[0,1],[2,1]],\n",
    "         [[1,0],[0,1]],\n",
    "         [[0,1],[1,2]],\n",
    "         [[2,1],[1,2]],\n",
    "         [[1,0],[2,1]]]\n",
    "    \n",
    "squares = []\n",
    "for points in square_points:\n",
    "    square = np.zeros((3,3))\n",
    "    for point in points:\n",
    "        square[point[0]][point[1]] = 1\n",
    "    squares.append(square)\n",
    "    \n",
    "def adjacent_points(point):\n",
    "    x,y = point\n",
    "    return [[x-1,y],\n",
    "            [x,y+1],\n",
    "            [x+1,y],\n",
    "            [x,y-1],]\n",
    "    \n",
    "class Grid():\n",
    "    def __init__(self,n):\n",
    "        self.grid = np.zeros((3*n,3*n))\n",
    "        self.square_indices = []\n",
    "        for i in range(n):\n",
    "            for x in range(n):\n",
    "                square = []\n",
    "                for a in range(3):\n",
    "                    for b in range(3):\n",
    "                        square.append([i*3+a,x*3+b])\n",
    "                self.square_indices.append(square)\n",
    "        self.indices = []\n",
    "        for a in range(3*n):\n",
    "            for b in range(3*n):\n",
    "                self.indices.append([a,b])\n",
    "        self.connections = []\n",
    "                \n",
    "    def place_square(self,square_index,square_position):\n",
    "        values = squares[square_index].flatten()\n",
    "        indices = self.square_indices[square_position]\n",
    "        for i in range(len(indices)):\n",
    "            #print(indices[i],values[i])\n",
    "            self.grid[indices[i][0]][indices[i][1]] = values[i]\n",
    "            \n",
    "    def which_square(self,point):\n",
    "        counter = 0\n",
    "        for square in self.square_indices:\n",
    "            if list(point) in square:\n",
    "                return counter\n",
    "            counter += 1\n",
    "    \n",
    "    def check_connections(self):\n",
    "        vertices = np.transpose(np.where(grid.grid == 1))\n",
    "        for vertex in vertices:\n",
    "            points = adjacent_points(vertex)\n",
    "            square_1 = self.which_square(vertex)\n",
    "            for point in points:\n",
    "                if point in self.indices:\n",
    "                    if self.grid[point[0]][point[1]] == 1:\n",
    "                        square_2 = self.which_square(point)\n",
    "                        self.connections.append([square_1,square_2])\n",
    "                        \n",
    "                        \n",
    "    def find_shapes(self):\n",
    "        filled_squares = np.unique(self.connections)\n",
    "        def continue_path(base_point,square,path):\n",
    "            possible_points = [point[1] for point in self.connections if point[0] == square]\n",
    "            print(\"GAY\",base_point,path,square,possible_points)\n",
    "            for point in possible_points:\n",
    "                if point == base_point and len(path) >= 4:\n",
    "                    path.append(point)\n",
    "                    print(\"OH YEAH YEAH\",path)\n",
    "                    return path,True\n",
    "                if not(point in path):\n",
    "                    new_path = path[:]\n",
    "                    new_path.append(point)\n",
    "                    continue_path(base_point,point,new_path)\n",
    "        for square in filled_squares:\n",
    "            print(square)\n",
    "            print(continue_path(square,square,[square]))\n",
    "            \n",
    "        \n",
    "    "
   ]
  },
  {
   "cell_type": "code",
   "execution_count": 188,
   "metadata": {},
   "outputs": [
    {
     "name": "stdout",
     "output_type": "stream",
     "text": [
      "[[0. 0. 0. 0. 0. 0.]\n",
      " [0. 0. 1. 1. 0. 0.]\n",
      " [0. 1. 0. 0. 1. 0.]\n",
      " [0. 1. 0. 0. 1. 0.]\n",
      " [0. 0. 1. 1. 0. 0.]\n",
      " [0. 0. 0. 0. 0. 0.]]\n",
      "[[0, 1], [1, 0], [0, 2], [1, 3], [2, 0], [3, 1], [2, 3], [3, 2]]\n",
      "0\n",
      "GAY 0 [0] 0 [1, 2]\n",
      "GAY 0 [0, 1] 1 [0, 3]\n",
      "GAY 0 [0, 1, 3] 3 [1, 2]\n",
      "GAY 0 [0, 1, 3, 2] 2 [0, 3]\n",
      "OH YEAH YEAH [0, 1, 3, 2, 0]\n",
      "GAY 0 [0, 2] 2 [0, 3]\n",
      "GAY 0 [0, 2, 3] 3 [1, 2]\n",
      "GAY 0 [0, 2, 3, 1] 1 [0, 3]\n",
      "OH YEAH YEAH [0, 2, 3, 1, 0]\n",
      "None\n",
      "1\n",
      "GAY 1 [1] 1 [0, 3]\n",
      "GAY 1 [1, 0] 0 [1, 2]\n",
      "GAY 1 [1, 0, 2] 2 [0, 3]\n",
      "GAY 1 [1, 0, 2, 3] 3 [1, 2]\n",
      "OH YEAH YEAH [1, 0, 2, 3, 1]\n",
      "GAY 1 [1, 3] 3 [1, 2]\n",
      "GAY 1 [1, 3, 2] 2 [0, 3]\n",
      "GAY 1 [1, 3, 2, 0] 0 [1, 2]\n",
      "OH YEAH YEAH [1, 3, 2, 0, 1]\n",
      "None\n",
      "2\n",
      "GAY 2 [2] 2 [0, 3]\n",
      "GAY 2 [2, 0] 0 [1, 2]\n",
      "GAY 2 [2, 0, 1] 1 [0, 3]\n",
      "GAY 2 [2, 0, 1, 3] 3 [1, 2]\n",
      "OH YEAH YEAH [2, 0, 1, 3, 2]\n",
      "GAY 2 [2, 3] 3 [1, 2]\n",
      "GAY 2 [2, 3, 1] 1 [0, 3]\n",
      "GAY 2 [2, 3, 1, 0] 0 [1, 2]\n",
      "OH YEAH YEAH [2, 3, 1, 0, 2]\n",
      "None\n",
      "3\n",
      "GAY 3 [3] 3 [1, 2]\n",
      "GAY 3 [3, 1] 1 [0, 3]\n",
      "GAY 3 [3, 1, 0] 0 [1, 2]\n",
      "GAY 3 [3, 1, 0, 2] 2 [0, 3]\n",
      "OH YEAH YEAH [3, 1, 0, 2, 3]\n",
      "GAY 3 [3, 2] 2 [0, 3]\n",
      "GAY 3 [3, 2, 0] 0 [1, 2]\n",
      "GAY 3 [3, 2, 0, 1] 1 [0, 3]\n",
      "OH YEAH YEAH [3, 2, 0, 1, 3]\n",
      "None\n"
     ]
    }
   ],
   "source": [
    "grid = Grid(2)\n",
    "grid.place_square(4,0)\n",
    "grid.place_square(5,1)\n",
    "grid.place_square(3,2)\n",
    "grid.place_square(2,3)\n",
    "print(grid.grid)\n",
    "grid.check_connections()\n",
    "print(grid.connections)\n",
    "grid.find_shapes()"
   ]
  },
  {
   "cell_type": "code",
   "execution_count": 129,
   "metadata": {},
   "outputs": [],
   "source": [
    "grid.check_connections()"
   ]
  },
  {
   "cell_type": "code",
   "execution_count": 130,
   "metadata": {},
   "outputs": [
    {
     "data": {
      "text/plain": [
       "[[0, 1], [1, 0]]"
      ]
     },
     "execution_count": 130,
     "metadata": {},
     "output_type": "execute_result"
    }
   ],
   "source": [
    "grid.connections"
   ]
  },
  {
   "cell_type": "code",
   "execution_count": 118,
   "metadata": {},
   "outputs": [
    {
     "name": "stdout",
     "output_type": "stream",
     "text": [
      "[0, 0]\n",
      "[0, 1]\n",
      "[0, 2]\n",
      "[0, 3]\n",
      "[0, 4]\n",
      "[0, 5]\n",
      "[1, 0]\n",
      "[1, 1]\n",
      "[1, 2]\n",
      "[1, 3]\n",
      "[1, 4]\n",
      "[1, 5]\n",
      "[2, 0]\n",
      "[2, 1]\n",
      "[2, 2]\n",
      "[2, 3]\n",
      "[2, 4]\n",
      "[2, 5]\n",
      "[3, 0]\n",
      "[3, 1]\n",
      "[3, 2]\n",
      "[3, 3]\n",
      "[3, 4]\n",
      "[3, 5]\n",
      "[4, 0]\n",
      "[4, 1]\n",
      "[4, 2]\n",
      "[4, 3]\n",
      "[4, 4]\n",
      "[4, 5]\n",
      "[5, 0]\n",
      "[5, 1]\n",
      "[5, 2]\n",
      "[5, 3]\n",
      "[5, 4]\n",
      "[5, 5]\n"
     ]
    }
   ],
   "source": [
    "n = 2\n",
    "for a in range(3*n):\n",
    "    for b in range(3*n):\n",
    "        print([a,b])"
   ]
  },
  {
   "cell_type": "code",
   "execution_count": 106,
   "metadata": {},
   "outputs": [
    {
     "data": {
      "text/plain": [
       "array([[1, 0],\n",
       "       [1, 2],\n",
       "       [1, 3],\n",
       "       [1, 5]], dtype=int64)"
      ]
     },
     "execution_count": 106,
     "metadata": {},
     "output_type": "execute_result"
    }
   ],
   "source": [
    "np.transpose(np.where(grid.grid == 1))"
   ]
  },
  {
   "cell_type": "code",
   "execution_count": null,
   "metadata": {},
   "outputs": [],
   "source": [
    "grid."
   ]
  },
  {
   "cell_type": "code",
   "execution_count": 38,
   "metadata": {},
   "outputs": [],
   "source": [
    "square_points = [[[1,0],[1,2]],\n",
    "         [[0,1],[2,1]],\n",
    "         [[1,0],[0,1]],\n",
    "         [[0,1],[1,2]],\n",
    "         [[2,1],[1,2]],\n",
    "         [[1,0],[2,1]]]\n",
    "\n",
    "squares = []\n",
    "for points in square_points:\n",
    "    square = np.zeros((3,3))\n",
    "    for point in points:\n",
    "        square[point[0]][point[1]] = 1\n",
    "    squares.append(square) "
   ]
  },
  {
   "cell_type": "code",
   "execution_count": 39,
   "metadata": {},
   "outputs": [
    {
     "data": {
      "text/plain": [
       "[array([[0., 0., 0.],\n",
       "        [1., 0., 1.],\n",
       "        [0., 0., 0.]]),\n",
       " array([[0., 1., 0.],\n",
       "        [0., 0., 0.],\n",
       "        [0., 1., 0.]]),\n",
       " array([[0., 1., 0.],\n",
       "        [1., 0., 0.],\n",
       "        [0., 0., 0.]]),\n",
       " array([[0., 1., 0.],\n",
       "        [0., 0., 1.],\n",
       "        [0., 0., 0.]]),\n",
       " array([[0., 0., 0.],\n",
       "        [0., 0., 1.],\n",
       "        [0., 1., 0.]]),\n",
       " array([[0., 0., 0.],\n",
       "        [1., 0., 0.],\n",
       "        [0., 1., 0.]])]"
      ]
     },
     "execution_count": 39,
     "metadata": {},
     "output_type": "execute_result"
    }
   ],
   "source": [
    "squares"
   ]
  },
  {
   "cell_type": "code",
   "execution_count": 5,
   "metadata": {},
   "outputs": [],
   "source": [
    "connect_pairs = np.array([[[1,2],[1,0]],\n",
    "                 [[2,1],[0,1]],\n",
    "                 [[1,2],[2,1]],\n",
    "                 [[1,0],[2,1]],\n",
    "                 [[0,1],[1,0]],\n",
    "                 [[0,1],[1,2]]])"
   ]
  },
  {
   "cell_type": "code",
   "execution_count": 6,
   "metadata": {},
   "outputs": [
    {
     "data": {
      "text/plain": [
       "array([[[1, 2, 1, 1, 0, 0],\n",
       "        [1, 0, 2, 2, 1, 1]],\n",
       "\n",
       "       [[2, 1, 2, 0, 1, 1],\n",
       "        [0, 1, 1, 1, 0, 2]]])"
      ]
     },
     "execution_count": 6,
     "metadata": {},
     "output_type": "execute_result"
    }
   ],
   "source": []
  },
  {
   "cell_type": "code",
   "execution_count": 50,
   "metadata": {},
   "outputs": [],
   "source": [
    "square_points = []\n",
    "n = 4\n",
    "for i in range(n):\n",
    "    for x in range(n):\n",
    "        square = []\n",
    "        for a in range(3):\n",
    "            for b in range(3):\n",
    "                square.append([i*3+a,x*3+b])\n",
    "        square_points.append(square)"
   ]
  },
  {
   "cell_type": "code",
   "execution_count": 51,
   "metadata": {},
   "outputs": [
    {
     "data": {
      "text/plain": [
       "[[[0, 0], [0, 1], [0, 2], [1, 0], [1, 1], [1, 2], [2, 0], [2, 1], [2, 2]],\n",
       " [[0, 3], [0, 4], [0, 5], [1, 3], [1, 4], [1, 5], [2, 3], [2, 4], [2, 5]],\n",
       " [[0, 6], [0, 7], [0, 8], [1, 6], [1, 7], [1, 8], [2, 6], [2, 7], [2, 8]],\n",
       " [[0, 9],\n",
       "  [0, 10],\n",
       "  [0, 11],\n",
       "  [1, 9],\n",
       "  [1, 10],\n",
       "  [1, 11],\n",
       "  [2, 9],\n",
       "  [2, 10],\n",
       "  [2, 11]],\n",
       " [[3, 0], [3, 1], [3, 2], [4, 0], [4, 1], [4, 2], [5, 0], [5, 1], [5, 2]],\n",
       " [[3, 3], [3, 4], [3, 5], [4, 3], [4, 4], [4, 5], [5, 3], [5, 4], [5, 5]],\n",
       " [[3, 6], [3, 7], [3, 8], [4, 6], [4, 7], [4, 8], [5, 6], [5, 7], [5, 8]],\n",
       " [[3, 9],\n",
       "  [3, 10],\n",
       "  [3, 11],\n",
       "  [4, 9],\n",
       "  [4, 10],\n",
       "  [4, 11],\n",
       "  [5, 9],\n",
       "  [5, 10],\n",
       "  [5, 11]],\n",
       " [[6, 0], [6, 1], [6, 2], [7, 0], [7, 1], [7, 2], [8, 0], [8, 1], [8, 2]],\n",
       " [[6, 3], [6, 4], [6, 5], [7, 3], [7, 4], [7, 5], [8, 3], [8, 4], [8, 5]],\n",
       " [[6, 6], [6, 7], [6, 8], [7, 6], [7, 7], [7, 8], [8, 6], [8, 7], [8, 8]],\n",
       " [[6, 9],\n",
       "  [6, 10],\n",
       "  [6, 11],\n",
       "  [7, 9],\n",
       "  [7, 10],\n",
       "  [7, 11],\n",
       "  [8, 9],\n",
       "  [8, 10],\n",
       "  [8, 11]],\n",
       " [[9, 0],\n",
       "  [9, 1],\n",
       "  [9, 2],\n",
       "  [10, 0],\n",
       "  [10, 1],\n",
       "  [10, 2],\n",
       "  [11, 0],\n",
       "  [11, 1],\n",
       "  [11, 2]],\n",
       " [[9, 3],\n",
       "  [9, 4],\n",
       "  [9, 5],\n",
       "  [10, 3],\n",
       "  [10, 4],\n",
       "  [10, 5],\n",
       "  [11, 3],\n",
       "  [11, 4],\n",
       "  [11, 5]],\n",
       " [[9, 6],\n",
       "  [9, 7],\n",
       "  [9, 8],\n",
       "  [10, 6],\n",
       "  [10, 7],\n",
       "  [10, 8],\n",
       "  [11, 6],\n",
       "  [11, 7],\n",
       "  [11, 8]],\n",
       " [[9, 9],\n",
       "  [9, 10],\n",
       "  [9, 11],\n",
       "  [10, 9],\n",
       "  [10, 10],\n",
       "  [10, 11],\n",
       "  [11, 9],\n",
       "  [11, 10],\n",
       "  [11, 11]]]"
      ]
     },
     "execution_count": 51,
     "metadata": {},
     "output_type": "execute_result"
    }
   ],
   "source": [
    "square_points"
   ]
  },
  {
   "cell_type": "code",
   "execution_count": 33,
   "metadata": {},
   "outputs": [
    {
     "data": {
      "text/plain": [
       "[[0, 0],\n",
       " [0, 3],\n",
       " [0, 6],\n",
       " [0, 9],\n",
       " [3, 0],\n",
       " [3, 3],\n",
       " [3, 6],\n",
       " [3, 9],\n",
       " [6, 0],\n",
       " [6, 3],\n",
       " [6, 6],\n",
       " [6, 9],\n",
       " [9, 0],\n",
       " [9, 3],\n",
       " [9, 6],\n",
       " [9, 9]]"
      ]
     },
     "execution_count": 33,
     "metadata": {},
     "output_type": "execute_result"
    }
   ],
   "source": [
    "square_starts"
   ]
  },
  {
   "cell_type": "code",
   "execution_count": null,
   "metadata": {},
   "outputs": [],
   "source": []
  }
 ],
 "metadata": {
  "interpreter": {
   "hash": "4fc61540c8a04f39789091940127cc74df59e5332355f1a61595cce526e9b218"
  },
  "kernelspec": {
   "display_name": "Python 3.7.9 64-bit (windows store)",
   "language": "python",
   "name": "python3"
  },
  "language_info": {
   "codemirror_mode": {
    "name": "ipython",
    "version": 3
   },
   "file_extension": ".py",
   "mimetype": "text/x-python",
   "name": "python",
   "nbconvert_exporter": "python",
   "pygments_lexer": "ipython3",
   "version": "3.8.3"
  },
  "orig_nbformat": 4
 },
 "nbformat": 4,
 "nbformat_minor": 2
}
