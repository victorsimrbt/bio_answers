{
 "cells": [
  {
   "cell_type": "code",
   "execution_count": null,
   "metadata": {},
   "outputs": [],
   "source": [
    "def recursive_check(block,current_str,target_str):\n",
    "    \n",
    "    for i in range(1,len(current_str)):\n",
    "        block = [current_str[:i],current_str[i:]]\n",
    "        recursive_check(block)"
   ]
  },
  {
   "cell_type": "code",
   "execution_count": 5,
   "metadata": {},
   "outputs": [
    {
     "name": "stdout",
     "output_type": "stream",
     "text": [
      "B ONBON\n",
      "BO NBON\n",
      "BON BON\n",
      "BONB ON\n",
      "BONBO N\n"
     ]
    }
   ],
   "source": [
    "txt = \"BONBON\"\n",
    "configs = []\n",
    "for i in range(1,len(txt)):\n",
    "    configs.append([txt[:i],txt[i:]])\n",
    "    print(txt[:i],txt[i:])"
   ]
  },
  {
   "cell_type": "code",
   "execution_count": 187,
   "metadata": {},
   "outputs": [],
   "source": [
    "memo = {}\n",
    "def split(pretext,txt):\n",
    "    text_configs = []\n",
    "    pretext_configs = []\n",
    "    real_config = []\n",
    "    if txt in memo:\n",
    "        text_config = memo[txt][:]\n",
    "        pretext_config = memo[pretext][:]\n",
    "        for i in range(len(text_config)):\n",
    "            for x in range(len(pretext_config)):\n",
    "                real_config.append(pretext_config[x] + text_config[i])\n",
    "    else:\n",
    "        for i in range(1,len(txt)):\n",
    "            text_configs.append([txt[:i],txt[i:]])\n",
    "            text_config = [txt[:i],txt[i:]]\n",
    "            for x in range(1,len(pretext)):\n",
    "                pretext_configs.append([pretext[:x],pretext[x:]])\n",
    "                pretext_config = [pretext[:x],pretext[x:]]\n",
    "                real_config.append(pretext_config + text_config)\n",
    "        memo[txt] = text_configs\n",
    "        memo[pretext] = pretext_configs\n",
    "    return real_config"
   ]
  },
  {
   "cell_type": "code",
   "execution_count": 348,
   "metadata": {},
   "outputs": [],
   "source": [
    "import numpy as np\n",
    "\n",
    "def flatten(itr):\n",
    "    if type(itr) in (str,bytes):\n",
    "        yield itr\n",
    "    else:\n",
    "        for x in itr:\n",
    "            try:\n",
    "                yield from flatten(x)\n",
    "            except TypeError:\n",
    "                yield x\n",
    "                \n",
    "                \n",
    "def split(word):\n",
    "    instances = []\n",
    "    if len(list(word)) == 1:\n",
    "        return word\n",
    "    for i in range(1,len(word)):\n",
    "        for instance in split(word[i:]):\n",
    "            instances.append(list(flatten([word[:i],instance])))\n",
    "    return instances"
   ]
  },
  {
   "cell_type": "code",
   "execution_count": 349,
   "metadata": {},
   "outputs": [
    {
     "data": {
      "text/plain": [
       "[['B', 'B', 'C', 'B', 'A'],\n",
       " ['B', 'B', 'CB', 'A'],\n",
       " ['B', 'BC', 'B', 'A'],\n",
       " ['B', 'BCB', 'A'],\n",
       " ['BB', 'C', 'B', 'A'],\n",
       " ['BB', 'CB', 'A'],\n",
       " ['BBC', 'B', 'A'],\n",
       " ['BBCB', 'A']]"
      ]
     },
     "execution_count": 349,
     "metadata": {},
     "output_type": "execute_result"
    }
   ],
   "source": [
    "split(\"BBCBA\")"
   ]
  },
  {
   "cell_type": "code",
   "execution_count": 314,
   "metadata": {},
   "outputs": [
    {
     "name": "stdout",
     "output_type": "stream",
     "text": [
      "EF\n",
      "F\n",
      "BASE\n",
      "EF [['E', 'F']]\n"
     ]
    },
    {
     "data": {
      "text/plain": [
       "[['E', 'F']]"
      ]
     },
     "execution_count": 314,
     "metadata": {},
     "output_type": "execute_result"
    }
   ],
   "source": [
    "split(\"EF\")"
   ]
  },
  {
   "cell_type": "code",
   "execution_count": 169,
   "metadata": {},
   "outputs": [
    {
     "data": {
      "text/plain": [
       "[['B', 'BACB', 'B'], ['BB', 'AC', 'BB']]"
      ]
     },
     "execution_count": 169,
     "metadata": {},
     "output_type": "execute_result"
    }
   ],
   "source": [
    "txt = \"BBACBB\"\n",
    "configs = []\n",
    "for i in range(1,len(txt)):\n",
    "    configs.append([txt[:i],txt[i:]])\n",
    "    configs += split([txt[:i]],txt[i:])\n",
    "possible_configs = [config for config in configs if config[-1] == config[0]]\n",
    "possible_configs"
   ]
  },
  {
   "cell_type": "code",
   "execution_count": 170,
   "metadata": {},
   "outputs": [
    {
     "data": {
      "text/plain": [
       "[['B', 'BACBB'],\n",
       " ['B', 'B', 'ACBB'],\n",
       " ['B', 'BA', 'CBB'],\n",
       " ['B', 'BAC', 'BB'],\n",
       " ['B', 'BACB', 'B'],\n",
       " ['BB', 'ACBB'],\n",
       " ['BB', 'A', 'CBB'],\n",
       " ['BB', 'AC', 'BB'],\n",
       " ['BB', 'ACB', 'B'],\n",
       " ['BBA', 'CBB'],\n",
       " ['BBA', 'C', 'BB'],\n",
       " ['BBA', 'CB', 'B'],\n",
       " ['BBAC', 'BB'],\n",
       " ['BBAC', 'B', 'B'],\n",
       " ['BBACB', 'B']]"
      ]
     },
     "execution_count": 170,
     "metadata": {},
     "output_type": "execute_result"
    }
   ],
   "source": [
    "configs"
   ]
  },
  {
   "cell_type": "code",
   "execution_count": 165,
   "metadata": {},
   "outputs": [],
   "source": [
    "possible_configs = [config for config in configs if config[-1] == config[0] ]"
   ]
  },
  {
   "cell_type": "code",
   "execution_count": 166,
   "metadata": {},
   "outputs": [
    {
     "data": {
      "text/plain": [
       "[['BON', 'BON']]"
      ]
     },
     "execution_count": 166,
     "metadata": {},
     "output_type": "execute_result"
    }
   ],
   "source": [
    "possible_configs"
   ]
  },
  {
   "cell_type": "code",
   "execution_count": 59,
   "metadata": {},
   "outputs": [
    {
     "name": "stdout",
     "output_type": "stream",
     "text": [
      "True\n",
      "B BBACBB\n",
      "False\n",
      "BB BBACBB\n",
      "False\n",
      "ABB BBACBB\n"
     ]
    },
    {
     "data": {
      "text/plain": [
       "[['B', 'BACB', 'B'], ['BB', 'AC', 'BB']]"
      ]
     },
     "execution_count": 59,
     "metadata": {},
     "output_type": "execute_result"
    }
   ],
   "source": [
    "txt = \"BBACBB\"\n",
    "possible_configs = []\n",
    "for i in range(1,len(txt)//2+1):\n",
    "    copy_text = list(txt[:])\n",
    "    rev = list(txt[:i][:])\n",
    "    rev.reverse()\n",
    "    rev = ''.join(rev)\n",
    "    print(rev == txt[-1:])\n",
    "    print(rev,txt)\n",
    "    if txt[:i] == txt[-i:] or rev == txt[-i:]:\n",
    "        possible_configs.append([txt[:i],txt[i:-i],txt[-i:]])\n",
    "        \n",
    "possible_configs"
   ]
  },
  {
   "cell_type": "code",
   "execution_count": 60,
   "metadata": {},
   "outputs": [
    {
     "data": {
      "text/plain": [
       "[['B', 'ACB'], ['BA', 'CB'], ['BAC', 'B']]"
      ]
     },
     "execution_count": 60,
     "metadata": {},
     "output_type": "execute_result"
    }
   ],
   "source": [
    "split(possible_configs[0][1])"
   ]
  },
  {
   "cell_type": "code",
   "execution_count": null,
   "metadata": {},
   "outputs": [],
   "source": [
    "num_el = 3\n",
    "starting_term = 1\n",
    "while True:\n",
    "    num_el -= starting_term\n",
    "    "
   ]
  }
 ],
 "metadata": {
  "interpreter": {
   "hash": "5d591f94785818b435df4881258bbd57da528693019fb2c63deaaf29b9986dd3"
  },
  "kernelspec": {
   "display_name": "Python 3.8.3 64-bit ('base': conda)",
   "language": "python",
   "name": "python3"
  },
  "language_info": {
   "codemirror_mode": {
    "name": "ipython",
    "version": 3
   },
   "file_extension": ".py",
   "mimetype": "text/x-python",
   "name": "python",
   "nbconvert_exporter": "python",
   "pygments_lexer": "ipython3",
   "version": "3.8.3"
  },
  "orig_nbformat": 4
 },
 "nbformat": 4,
 "nbformat_minor": 2
}
