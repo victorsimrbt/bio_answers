{
 "cells": [
  {
   "cell_type": "code",
   "execution_count": 58,
   "metadata": {},
   "outputs": [],
   "source": [
    "import numpy as np\n",
    "all_even = [i for i in range(1,10000) if i % 2 == 0]\n",
    "all_odd = [i for i in range(1,10000) if i % 2 != 0]\n",
    "all_numbers = [i for i in range(1,10000)]\n",
    "\n",
    "def check_prime(num):\n",
    "    for number in all_numbers[:num]:\n",
    "        if num % number == 0 and num != number and number != 1:\n",
    "            return False\n",
    "    return True\n",
    "\n",
    "prime_numbers = [number for number in all_numbers if check_prime(number)]"
   ]
  },
  {
   "cell_type": "code",
   "execution_count": 74,
   "metadata": {},
   "outputs": [],
   "source": [
    "import math\n",
    "def search(num):\n",
    "    pairs = [list(sorted([number,num-number])) for number in prime_numbers if number < num and num-number in prime_numbers]\n",
    "    print(pairs)\n",
    "    return math.ceil(len(pairs)/2)  "
   ]
  },
  {
   "cell_type": "code",
   "execution_count": 75,
   "metadata": {},
   "outputs": [
    {
     "name": "stdout",
     "output_type": "stream",
     "text": [
      "[[3, 43], [5, 41], [17, 29], [23, 23], [17, 29], [5, 41], [3, 43]]\n"
     ]
    },
    {
     "data": {
      "text/plain": [
       "4"
      ]
     },
     "execution_count": 75,
     "metadata": {},
     "output_type": "execute_result"
    }
   ],
   "source": [
    "search(46)"
   ]
  },
  {
   "cell_type": "code",
   "execution_count": 72,
   "metadata": {},
   "outputs": [
    {
     "name": "stdout",
     "output_type": "stream",
     "text": [
      "11\n",
      "17\n",
      "23\n",
      "27\n",
      "29\n",
      "35\n",
      "37\n",
      "41\n",
      "47\n"
     ]
    }
   ],
   "source": [
    "for i in range(4,51):\n",
    "    if not(search(i)):\n",
    "        print(i)"
   ]
  },
  {
   "cell_type": "code",
   "execution_count": 69,
   "metadata": {},
   "outputs": [],
   "source": [
    "if 0:\n",
    "    print(\"YO\")"
   ]
  },
  {
   "cell_type": "code",
   "execution_count": null,
   "metadata": {},
   "outputs": [],
   "source": [
    "def two_number_sum(num):\n",
    "    pairs= []\n",
    "    # something happens\n",
    "    return pairs\n",
    "\n",
    "two_number_sum(5) # 1,4 2,3 "
   ]
  }
 ],
 "metadata": {
  "interpreter": {
   "hash": "5d591f94785818b435df4881258bbd57da528693019fb2c63deaaf29b9986dd3"
  },
  "kernelspec": {
   "display_name": "Python 3.8.3 ('base')",
   "language": "python",
   "name": "python3"
  },
  "language_info": {
   "codemirror_mode": {
    "name": "ipython",
    "version": 3
   },
   "file_extension": ".py",
   "mimetype": "text/x-python",
   "name": "python",
   "nbconvert_exporter": "python",
   "pygments_lexer": "ipython3",
   "version": "3.8.3"
  },
  "orig_nbformat": 4
 },
 "nbformat": 4,
 "nbformat_minor": 2
}
