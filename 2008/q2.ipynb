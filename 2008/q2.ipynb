{
 "cells": [
  {
   "cell_type": "code",
   "execution_count": 24,
   "metadata": {},
   "outputs": [],
   "source": [
    "class Rotor:\n",
    "    def __init__(self,links):\n",
    "        self.links = links\n",
    "        self.left_ports = list(\"ABCD\")\n",
    "        self.right_ports = list(\"ABCD\")\n",
    "    def turn(self):\n",
    "        value = self.left_ports.pop(-1)\n",
    "        self.left_ports.insert(0,value)\n",
    "        self.right_ports = self.left_ports\n",
    "        return self.left_ports\n",
    "    def reset_links(self,new_ports):\n",
    "        port_translation = {}\n",
    "        for i in range(len(self.ports)):\n",
    "            port_translation[self.ports[i]] = new_ports[i]\n",
    "        print(port_translation)\n",
    "        self.ports = new_ports\n",
    "        \n",
    "        new_links = {}\n",
    "        for key in self.links:\n",
    "            value = self.links[key]\n",
    "            new_links[port_translation[key]] = port_translation[value]\n",
    "        self.links = new_links"
   ]
  },
  {
   "cell_type": "code",
   "execution_count": null,
   "metadata": {},
   "outputs": [],
   "source": [
    "rotor1_config = {\n",
    "    \"A\":\"A\",\n",
    "    \"B\":\"D\",\n",
    "    \"C\":\"B\",\n",
    "    \"D\":\"C\"\n",
    "}\n",
    "rotor2_config = {\n",
    "    \"A\":\"A\",\n",
    "    \"B\":\"C\",\n",
    "    \"C\":\"B\",\n",
    "    \"D\":\"D\"\n",
    "}\n",
    "\n",
    "class Enigma:\n",
    "    def __init__(self):\n",
    "        self.rotor1 = Rotor(rotor1_config)\n",
    "        self.rotor2 = Rotor(rotor2_config)\n",
    "    def turn_rotor1(self):\n",
    "        new_ports = self.rotor1.turn()\n",
    "        "
   ]
  },
  {
   "cell_type": "code",
   "execution_count": 23,
   "metadata": {},
   "outputs": [
    {
     "name": "stdout",
     "output_type": "stream",
     "text": [
      "{'A': 'D', 'B': 'A', 'C': 'B', 'D': 'C'}\n"
     ]
    },
    {
     "data": {
      "text/plain": [
       "({'D': 'D', 'A': 'B', 'B': 'A', 'C': 'C'}, ['D', 'A', 'B', 'C'])"
      ]
     },
     "execution_count": 23,
     "metadata": {},
     "output_type": "execute_result"
    }
   ],
   "source": [
    "rotor1_config = {\n",
    "    \"A\":\"A\",\n",
    "    \"B\":\"D\",\n",
    "    \"C\":\"B\",\n",
    "    \"D\":\"C\"\n",
    "}\n",
    "rotor2_config = {\n",
    "    \"A\":\"A\",\n",
    "    \"B\":\"C\",\n",
    "    \"C\":\"B\",\n",
    "    \"D\":\"D\"\n",
    "}\n",
    "rotor1 = Rotor(rotor1_config)\n",
    "rotor1.ports\n",
    "rotor1.turn()\n",
    "new_ports = rotor1.ports\n",
    "\n",
    "rotor2 = Rotor(rotor2_config)\n",
    "rotor2.reset_links(new_ports)\n",
    "rotor2.links,rotor2.ports\n"
   ]
  },
  {
   "cell_type": "code",
   "execution_count": 25,
   "metadata": {},
   "outputs": [
    {
     "data": {
      "text/plain": [
       "({'A': 'A', 'B': 'D', 'C': 'B', 'D': 'C'},\n",
       " {'D': 'D', 'A': 'B', 'B': 'A', 'C': 'C'})"
      ]
     },
     "execution_count": 25,
     "metadata": {},
     "output_type": "execute_result"
    }
   ],
   "source": [
    "rotor1.links,rotor2.links"
   ]
  },
  {
   "cell_type": "code",
   "execution_count": 16,
   "metadata": {},
   "outputs": [],
   "source": [
    "b = {\"B\":\"C\"}\n",
    "translation = {'B':'D',\n",
    "               \"C\":\"A\"}\n",
    "new_dict ={}\n",
    "for key in b:\n",
    "    value = b[key]\n",
    "    new_dict[translation[key]] = translation[value]"
   ]
  },
  {
   "cell_type": "code",
   "execution_count": 17,
   "metadata": {},
   "outputs": [
    {
     "data": {
      "text/plain": [
       "{'D': 'A'}"
      ]
     },
     "execution_count": 17,
     "metadata": {},
     "output_type": "execute_result"
    }
   ],
   "source": [
    "new_dict"
   ]
  },
  {
   "cell_type": "code",
   "execution_count": 2,
   "metadata": {},
   "outputs": [
    {
     "name": "stdout",
     "output_type": "stream",
     "text": [
      "12381283812381283\n"
     ]
    }
   ],
   "source": [
    "def print_type(a):\n",
    "    print(a)\n",
    "    \n",
    "b = input(\"HI\")\n",
    "print_type(b)"
   ]
  },
  {
   "cell_type": "code",
   "execution_count": 4,
   "metadata": {},
   "outputs": [],
   "source": [
    "def is_prime(num):\n",
    "    for i in range(2,num):\n",
    "        if num % i == 0:\n",
    "            return False\n",
    "    return True"
   ]
  },
  {
   "cell_type": "code",
   "execution_count": null,
   "metadata": {},
   "outputs": [],
   "source": [
    "a = [1,2,3,4]\n",
    "a [0]"
   ]
  },
  {
   "cell_type": "code",
   "execution_count": null,
   "metadata": {},
   "outputs": [],
   "source": [
    "def two_number_sum(num):\n",
    "    pairs = []\n",
    "    for i in range(1,num):\n",
    "        pairs.append([i,num-i])\n",
    "    return pairs"
   ]
  },
  {
   "cell_type": "code",
   "execution_count": 2,
   "metadata": {},
   "outputs": [
    {
     "name": "stdout",
     "output_type": "stream",
     "text": [
      "1\n",
      "2\n",
      "3\n",
      "4\n",
      "5\n",
      "6\n",
      "7\n",
      "8\n",
      "9\n",
      "10\n"
     ]
    }
   ],
   "source": [
    "a = [1,2,3,4,5,6,7,8,9,10]\n",
    "for i in range(10):\n",
    "    print(a[i])"
   ]
  },
  {
   "cell_type": "code",
   "execution_count": 3,
   "metadata": {},
   "outputs": [
    {
     "name": "stdout",
     "output_type": "stream",
     "text": [
      "1\n",
      "4\n",
      "7\n"
     ]
    }
   ],
   "source": [
    "for i in range(1,10,3):\n",
    "    print(i)"
   ]
  },
  {
   "cell_type": "code",
   "execution_count": null,
   "metadata": {},
   "outputs": [],
   "source": []
  }
 ],
 "metadata": {
  "interpreter": {
   "hash": "5d591f94785818b435df4881258bbd57da528693019fb2c63deaaf29b9986dd3"
  },
  "kernelspec": {
   "display_name": "Python 3.8.3 ('base')",
   "language": "python",
   "name": "python3"
  },
  "language_info": {
   "codemirror_mode": {
    "name": "ipython",
    "version": 3
   },
   "file_extension": ".py",
   "mimetype": "text/x-python",
   "name": "python",
   "nbconvert_exporter": "python",
   "pygments_lexer": "ipython3",
   "version": "3.8.3"
  },
  "orig_nbformat": 4
 },
 "nbformat": 4,
 "nbformat_minor": 2
}
