{
 "cells": [
  {
   "cell_type": "code",
   "execution_count": 9,
   "metadata": {},
   "outputs": [
    {
     "name": "stdout",
     "output_type": "stream",
     "text": [
      "9\n"
     ]
    },
    {
     "data": {
      "text/plain": [
       "True"
      ]
     },
     "execution_count": 9,
     "metadata": {},
     "output_type": "execute_result"
    }
   ],
   "source": [
    "number_strings = [\"ONE\",\"TWO\",\"THREE\",\"FOUR\",\"FIVE\",\"SIX\",\"SEVEN\",\"EIGHT\",\"NINE\"]\n",
    "number_string_dict = {number_strings[i] : i+1 for i in range(len(number_strings))}\n",
    "\n",
    "def digit_word_check(string):\n",
    "    for option in number_strings:\n",
    "        search_idx = 0\n",
    "        check_string = ''\n",
    "        for char in string:\n",
    "            if search_idx == len(option):\n",
    "                break\n",
    "            if char == option[search_idx]:\n",
    "                check_string += char\n",
    "                search_idx += 1\n",
    "        if check_string == option:\n",
    "            print(number_string_dict[check_string])\n",
    "            return True\n",
    "    print(\"NO\")\n",
    "   \n",
    "digit_word_check(\"CANINE\")       "
   ]
  },
  {
   "cell_type": "code",
   "execution_count": 23,
   "metadata": {},
   "outputs": [
    {
     "name": "stdout",
     "output_type": "stream",
     "text": [
      "0 1 2\n",
      "0 1 5\n",
      "0 1 8\n",
      "0 4 2\n",
      "0 4 5\n",
      "0 4 8\n",
      "0 7 2\n",
      "0 7 5\n",
      "0 7 8\n",
      "3 1 2\n",
      "3 1 5\n",
      "3 1 8\n",
      "3 4 2\n",
      "3 4 5\n",
      "3 4 8\n",
      "3 7 2\n",
      "3 7 5\n",
      "3 7 8\n",
      "6 1 2\n",
      "6 1 5\n",
      "6 1 8\n",
      "6 4 2\n",
      "6 4 5\n",
      "6 4 8\n",
      "6 7 2\n",
      "6 7 5\n",
      "6 7 8\n"
     ]
    }
   ],
   "source": [
    "import math\n",
    "\n",
    "word = \"TWOTWOTWO\"\n",
    "all_words = []\n",
    "for a in range(9):\n",
    "    letter_a = word[a]\n",
    "    for b in range(9):\n",
    "        if a != b:\n",
    "            letter_b = word[b]\n",
    "            for c in range(9):\n",
    "                if c != a and c != b:\n",
    "                    letter_c = word[c]\n",
    "                    new_string = letter_a+letter_b+letter_c\n",
    "                    if new_string == \"TWO\":\n",
    "                        print(a,b,c)\n",
    "                    all_words.append(new_string)"
   ]
  },
  {
   "cell_type": "code",
   "execution_count": 22,
   "metadata": {},
   "outputs": [
    {
     "data": {
      "text/plain": [
       "27"
      ]
     },
     "execution_count": 22,
     "metadata": {},
     "output_type": "execute_result"
    }
   ],
   "source": [
    "len(valid)"
   ]
  },
  {
   "cell_type": "code",
   "execution_count": 29,
   "metadata": {},
   "outputs": [
    {
     "name": "stdout",
     "output_type": "stream",
     "text": [
      "ONETWOTHREEFOURFIVE\n",
      "1\n",
      "2\n",
      "3\n",
      "4\n",
      "5\n",
      "6\n",
      "7\n",
      "8\n",
      "9\n"
     ]
    },
    {
     "data": {
      "text/plain": [
       "True"
      ]
     },
     "execution_count": 29,
     "metadata": {},
     "output_type": "execute_result"
    }
   ],
   "source": [
    "one_to_five = ''\n",
    "for i in range(5):\n",
    "    one_to_five += number_strings[i]\n",
    "print(one_to_five)\n",
    "\n",
    "def complete_check(string,strings):\n",
    "    for option in strings:\n",
    "        search_idx = 0\n",
    "        check_string = ''\n",
    "        for char in string:\n",
    "            if search_idx == len(option):\n",
    "                break\n",
    "            if char == option[search_idx]:\n",
    "                check_string += char\n",
    "                search_idx += 1\n",
    "        if check_string == option:\n",
    "            print(number_string_dict[check_string])\n",
    "        else:\n",
    "            return False\n",
    "    return True\n",
    "\n",
    "complete_check(\"TWHRFOURSIXEVEIGHTNINE\",number_strings)"
   ]
  },
  {
   "cell_type": "code",
   "execution_count": 30,
   "metadata": {},
   "outputs": [
    {
     "data": {
      "text/plain": [
       "22"
      ]
     },
     "execution_count": 30,
     "metadata": {},
     "output_type": "execute_result"
    }
   ],
   "source": [
    "len(\"TWHRFOURSIXEVEIGHTNINE\")"
   ]
  },
  {
   "cell_type": "code",
   "execution_count": null,
   "metadata": {},
   "outputs": [],
   "source": []
  }
 ],
 "metadata": {
  "interpreter": {
   "hash": "5d591f94785818b435df4881258bbd57da528693019fb2c63deaaf29b9986dd3"
  },
  "kernelspec": {
   "display_name": "Python 3.8.3 ('base')",
   "language": "python",
   "name": "python3"
  },
  "language_info": {
   "codemirror_mode": {
    "name": "ipython",
    "version": 3
   },
   "file_extension": ".py",
   "mimetype": "text/x-python",
   "name": "python",
   "nbconvert_exporter": "python",
   "pygments_lexer": "ipython3",
   "version": "3.8.3"
  },
  "orig_nbformat": 4
 },
 "nbformat": 4,
 "nbformat_minor": 2
}
