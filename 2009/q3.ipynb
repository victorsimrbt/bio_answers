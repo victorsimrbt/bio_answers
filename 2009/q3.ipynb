{
 "cells": [
  {
   "cell_type": "code",
   "execution_count": 82,
   "metadata": {},
   "outputs": [
    {
     "name": "stdout",
     "output_type": "stream",
     "text": [
      "3 []\n",
      "2 [1]\n",
      "1 [1, 1]\n",
      "0 [1, 1, 1]\n",
      "0 [1, 2]\n",
      "1 [2]\n",
      "0 [2, 1]\n",
      "0 [3]\n"
     ]
    },
    {
     "data": {
      "text/plain": [
       "[[1, 1, 1], [1, 2], [2, 1], [3]]"
      ]
     },
     "execution_count": 82,
     "metadata": {},
     "output_type": "execute_result"
    }
   ],
   "source": [
    "import numpy as np\n",
    "\n",
    "blocks = np.arange(1,10)\n",
    "all_paths = []\n",
    "n =  10\n",
    "s =  32\n",
    "memo = {i: [] for i in range(1,s+1)}\n",
    "def search(current,path):\n",
    "    print(current,path)\n",
    "    if current == 0:\n",
    "        current = 4\n",
    "        return path\n",
    "    legal_blocks = [block for block in blocks if current-block >= 0]\n",
    "    for block in legal_blocks:\n",
    "        path_copy = path[:]\n",
    "        path_copy.append(block)\n",
    "        value = search(current-block,path_copy)\n",
    "        if value:\n",
    "            all_paths.append(value)\n",
    "    return \n",
    "\n",
    "search(s,[])\n",
    "all_paths"
   ]
  },
  {
   "cell_type": "code",
   "execution_count": 68,
   "metadata": {},
   "outputs": [],
   "source": [
    "valid_paths = [path for path in all_paths if path]"
   ]
  },
  {
   "cell_type": "code",
   "execution_count": 69,
   "metadata": {},
   "outputs": [
    {
     "data": {
      "text/plain": [
       "[[1, 1, 1, 1], [1, 1, 2], [1, 2, 1], [1, 3], [2, 1, 1], [2, 2], [3, 1], [4]]"
      ]
     },
     "execution_count": 69,
     "metadata": {},
     "output_type": "execute_result"
    }
   ],
   "source": [
    "valid_paths"
   ]
  },
  {
   "cell_type": "code",
   "execution_count": 42,
   "metadata": {},
   "outputs": [
    {
     "data": {
      "text/plain": [
       "[[1, 1, 1, 1],\n",
       " [1, 1, 1, 1, 2],\n",
       " [1, 1, 1, 1, 2, 2, 1],\n",
       " [1, 1, 1, 1, 2, 2, 1, 3],\n",
       " [1, 1, 1, 1, 2, 2, 1, 3, 2, 1, 1],\n",
       " [1, 1, 1, 1, 2, 2, 1, 3, 2, 1, 1, 2],\n",
       " [1, 1, 1, 1, 2, 2, 1, 3, 2, 1, 1, 2, 3, 1],\n",
       " [1, 1, 1, 1, 2, 2, 1, 3, 2, 1, 1, 2, 3, 1, 4]]"
      ]
     },
     "execution_count": 42,
     "metadata": {},
     "output_type": "execute_result"
    }
   ],
   "source": [
    "all_paths"
   ]
  },
  {
   "cell_type": "code",
   "execution_count": null,
   "metadata": {},
   "outputs": [],
   "source": []
  }
 ],
 "metadata": {
  "interpreter": {
   "hash": "5d591f94785818b435df4881258bbd57da528693019fb2c63deaaf29b9986dd3"
  },
  "kernelspec": {
   "display_name": "Python 3.8.3 ('base')",
   "language": "python",
   "name": "python3"
  },
  "language_info": {
   "codemirror_mode": {
    "name": "ipython",
    "version": 3
   },
   "file_extension": ".py",
   "mimetype": "text/x-python",
   "name": "python",
   "nbconvert_exporter": "python",
   "pygments_lexer": "ipython3",
   "version": "3.8.3"
  },
  "orig_nbformat": 4
 },
 "nbformat": 4,
 "nbformat_minor": 2
}
