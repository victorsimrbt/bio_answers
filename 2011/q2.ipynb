{
 "cells": [
  {
   "cell_type": "code",
   "execution_count": 272,
   "metadata": {},
   "outputs": [],
   "source": [
    "from itertools import combinations\n",
    "all_cards = []\n",
    "\n",
    "options = ['A',2,3,4,5,6,7,8,9,'T','J','Q','K']\n",
    "suits = ['C','H','S','D']\n",
    "\n",
    "all_combinations = list(combinations(options+suits,2))\n",
    "\n",
    "valid_combinations = []\n",
    "for combination in all_combinations:\n",
    "    for option in options:\n",
    "        if option in combination:\n",
    "            for suit in suits:\n",
    "                if suit in combination:\n",
    "                    valid_combinations.append(combination)"
   ]
  },
  {
   "cell_type": "code",
   "execution_count": 273,
   "metadata": {},
   "outputs": [],
   "source": [
    "def suit_superior(instance):\n",
    "    suits = {\n",
    "        'C' : 0,\n",
    "        'H' : 1,\n",
    "        'S' : 2,\n",
    "        'D' : 3\n",
    "    }\n",
    "    values = {\n",
    "        'A' : 1,\n",
    "        'T' : 10,\n",
    "        'J' : 11,\n",
    "        'Q' : 12,\n",
    "        'K' : 13\n",
    "    }\n",
    "    if type(instance[0]) == str:\n",
    "        num = values[instance[0]]\n",
    "    else:\n",
    "        num = instance[0]\n",
    "    return suits[instance[1]]*100 + num\n",
    "\n",
    "valid_combinations.sort(key = suit_superior)"
   ]
  },
  {
   "cell_type": "code",
   "execution_count": 309,
   "metadata": {},
   "outputs": [],
   "source": [
    "from itertools import combinations\n",
    "import numpy as np\n",
    "class Pile():\n",
    "    def __init__(self):\n",
    "        self.cards = []\n",
    "    def add_card(self,card):\n",
    "        self.cards.append(card)\n",
    "    def refresh_top(self):\n",
    "        self.top = self.cards[-1]\n",
    "class AccordionPatience():\n",
    "    def __init__(self):\n",
    "        self.piles = []\n",
    "    def shuffle(self,shuffle_values,lst = valid_combinations[:]):\n",
    "        self.piles = []\n",
    "        end = False\n",
    "        while not(end):\n",
    "            for value in shuffle_values:\n",
    "                if len(self.piles) == 52:\n",
    "                    return \n",
    "                #print(\"NEW VALUE\",value)\n",
    "                for i in range(value):\n",
    "                    #print(i,value)\n",
    "                    #print(lst)\n",
    "                    if i+1 == value:\n",
    "                        if len(self.piles) == 52:\n",
    "                            return \n",
    "                        #print(i,value,lst[0])\n",
    "                        new_pile = Pile()\n",
    "                        new_pile.add_card(lst[0])\n",
    "                        self.piles.append(new_pile)\n",
    "                        lst.pop(0)\n",
    "                        break\n",
    "                    else:\n",
    "                        first_value = lst.pop(0)\n",
    "                        lst.append(first_value)\n",
    "                        \n",
    "    def generate_legal_moves(self):\n",
    "        from itertools import combinations\n",
    "        print(len(self.piles))\n",
    "        all_combinations = combinations(self.piles,2)\n",
    "        #print(list(all_combinations))\n",
    "        for combination in list(all_combinations):\n",
    "            #print(combination[0].cards[-1],combination[1].cards[-1])\n",
    "            #print(np.unique(combination[0].cards[-1]),np.unique(combination[1].cards[-1]))\n",
    "            #print(self.piles.index(combination[0]),self.piles.index(combination[1]))\n",
    "            #print((np.unique(combination[0].cards[-1])==np.unique(combination[1].cards[-1])),\n",
    "                       #(abs(self.piles.index(combination[0])-self.piles.index(combination[1])) == 1,\n",
    "                        #abs(self.piles.index(combination[0])-self.piles.index(combination[1])) == 2))\n",
    "            valid_moves = [[(combination[0].cards[-1],combination[1].cards[-1]),\n",
    "                            (self.piles.index(combination[0]),self.piles.index(combination[1])),\n",
    "                            abs(self.piles.index(combination[0])-self.piles.index(combination[1])),\n",
    "                            len(combination[0].cards) + len(combination[1].cards)] \n",
    "                        for combination in list(all_combinations) \n",
    "                        if (np.unique(combination[0].cards[-1]) == np.unique(combination[1].cards[-1])).any() and\n",
    "                        (abs(self.piles.index(combination[0])-self.piles.index(combination[1])) == 1 or\n",
    "                            abs(self.piles.index(combination[0])-self.piles.index(combination[1])) == 2)]\n",
    "        return valid_moves\n",
    "    \n",
    "    def execute_move(self,move):\n",
    "        pile1,pile2 = move\n",
    "        pile1 = [pile for pile in self.piles if pile.cards[-1] == pile1][0]\n",
    "        pile2 = [pile for pile in self.piles if pile.cards[-1] == pile2][0]\n",
    "        pile1.cards += pile2.cards\n",
    "        \n",
    "        self.piles.remove(pile2)\n",
    "        "
   ]
  },
  {
   "cell_type": "code",
   "execution_count": 310,
   "metadata": {},
   "outputs": [],
   "source": [
    "\n",
    "def dist(instance):\n",
    "    return instance[-2]\n",
    "\n",
    "def size(instance):\n",
    "    return instance[-1]\n",
    "\n",
    "def depth(instance):\n",
    "    return max(instance[-3])\n",
    "\n",
    "\n",
    "def Strat1(moves,piles):\n",
    "    last_pile = len(piles)-1\n",
    "    moves.sort(key = depth)\n",
    "    moves.sort(key = dist)\n",
    "    return moves[0][0]\n",
    "\n",
    "def Strat2(moves):\n",
    "    moves.sort(key = size)\n",
    "    max_size = moves[0][-1]\n",
    "    max_size_combos = [move for move in moves if move[-1] == max_size]\n",
    "    max_size_combos.sort(key = depth)\n",
    "    return moves[0][0]"
   ]
  },
  {
   "cell_type": "code",
   "execution_count": 311,
   "metadata": {},
   "outputs": [
    {
     "name": "stdout",
     "output_type": "stream",
     "text": [
      "52\n",
      "[]\n"
     ]
    },
    {
     "ename": "IndexError",
     "evalue": "list index out of range",
     "output_type": "error",
     "traceback": [
      "\u001b[1;31m---------------------------------------------------------------------------\u001b[0m",
      "\u001b[1;31mIndexError\u001b[0m                                Traceback (most recent call last)",
      "\u001b[1;32m<ipython-input-311-9dc2e6bec5eb>\u001b[0m in \u001b[0;36m<module>\u001b[1;34m\u001b[0m\n\u001b[0;32m      4\u001b[0m     \u001b[0mlegal_moves\u001b[0m \u001b[1;33m=\u001b[0m \u001b[0mgame\u001b[0m\u001b[1;33m.\u001b[0m\u001b[0mgenerate_legal_moves\u001b[0m\u001b[1;33m(\u001b[0m\u001b[1;33m)\u001b[0m\u001b[1;33m\u001b[0m\u001b[1;33m\u001b[0m\u001b[0m\n\u001b[0;32m      5\u001b[0m     \u001b[0mprint\u001b[0m\u001b[1;33m(\u001b[0m\u001b[0mlegal_moves\u001b[0m\u001b[1;33m)\u001b[0m\u001b[1;33m\u001b[0m\u001b[1;33m\u001b[0m\u001b[0m\n\u001b[1;32m----> 6\u001b[1;33m     \u001b[0mmove\u001b[0m \u001b[1;33m=\u001b[0m \u001b[0mStrat1\u001b[0m\u001b[1;33m(\u001b[0m\u001b[0mlegal_moves\u001b[0m\u001b[1;33m,\u001b[0m\u001b[0mgame\u001b[0m\u001b[1;33m.\u001b[0m\u001b[0mpiles\u001b[0m\u001b[1;33m)\u001b[0m\u001b[1;33m\u001b[0m\u001b[1;33m\u001b[0m\u001b[0m\n\u001b[0m\u001b[0;32m      7\u001b[0m     \u001b[0mgame\u001b[0m\u001b[1;33m.\u001b[0m\u001b[0mexecute_move\u001b[0m\u001b[1;33m(\u001b[0m\u001b[0mmove\u001b[0m\u001b[1;33m)\u001b[0m\u001b[1;33m\u001b[0m\u001b[1;33m\u001b[0m\u001b[0m\n",
      "\u001b[1;32m<ipython-input-310-111da405a9e0>\u001b[0m in \u001b[0;36mStrat1\u001b[1;34m(moves, piles)\u001b[0m\n\u001b[0;32m     13\u001b[0m     \u001b[0mmoves\u001b[0m\u001b[1;33m.\u001b[0m\u001b[0msort\u001b[0m\u001b[1;33m(\u001b[0m\u001b[0mkey\u001b[0m \u001b[1;33m=\u001b[0m \u001b[0mdepth\u001b[0m\u001b[1;33m)\u001b[0m\u001b[1;33m\u001b[0m\u001b[1;33m\u001b[0m\u001b[0m\n\u001b[0;32m     14\u001b[0m     \u001b[0mmoves\u001b[0m\u001b[1;33m.\u001b[0m\u001b[0msort\u001b[0m\u001b[1;33m(\u001b[0m\u001b[0mkey\u001b[0m \u001b[1;33m=\u001b[0m \u001b[0mdist\u001b[0m\u001b[1;33m)\u001b[0m\u001b[1;33m\u001b[0m\u001b[1;33m\u001b[0m\u001b[0m\n\u001b[1;32m---> 15\u001b[1;33m     \u001b[1;32mreturn\u001b[0m \u001b[0mmoves\u001b[0m\u001b[1;33m[\u001b[0m\u001b[1;36m0\u001b[0m\u001b[1;33m]\u001b[0m\u001b[1;33m[\u001b[0m\u001b[1;36m0\u001b[0m\u001b[1;33m]\u001b[0m\u001b[1;33m\u001b[0m\u001b[1;33m\u001b[0m\u001b[0m\n\u001b[0m\u001b[0;32m     16\u001b[0m \u001b[1;33m\u001b[0m\u001b[0m\n\u001b[0;32m     17\u001b[0m \u001b[1;32mdef\u001b[0m \u001b[0mStrat2\u001b[0m\u001b[1;33m(\u001b[0m\u001b[0mmoves\u001b[0m\u001b[1;33m)\u001b[0m\u001b[1;33m:\u001b[0m\u001b[1;33m\u001b[0m\u001b[1;33m\u001b[0m\u001b[0m\n",
      "\u001b[1;31mIndexError\u001b[0m: list index out of range"
     ]
    }
   ],
   "source": [
    "game = AccordionPatience()\n",
    "game.shuffle([1,3,5,7,2,4])\n",
    "while True:\n",
    "    legal_moves = game.generate_legal_moves()\n",
    "    print(legal_moves)\n",
    "    move = Strat1(legal_moves,game.piles)\n",
    "    game.execute_move(move)"
   ]
  },
  {
   "cell_type": "code",
   "execution_count": null,
   "metadata": {},
   "outputs": [
    {
     "name": "stdout",
     "output_type": "stream",
     "text": [
      "(9, 'H')\n",
      "('K', 'H')\n",
      "('Q', 'S')\n",
      "(9, 'D')\n",
      "(2, 'C')\n",
      "('K', 'C')\n",
      "(7, 'H')\n",
      "('Q', 'H')\n",
      "(6, 'S')\n",
      "(4, 'D')\n",
      "('Q', 'C')\n",
      "(5, 'C')\n",
      "('J', 'S')\n",
      "('T', 'S')\n",
      "(7, 'D')\n",
      "(6, 'C')\n",
      "(8, 'H')\n",
      "('K', 'S')\n",
      "('T', 'C')\n",
      "(8, 'C')\n",
      "('A', 'H')\n",
      "('J', 'H')\n",
      "(3, 'C')\n",
      "('K', 'D')\n",
      "(4, 'H')\n",
      "(3, 'S')\n",
      "26\n"
     ]
    },
    {
     "data": {
      "text/plain": [
       "[]"
      ]
     },
     "execution_count": 287,
     "metadata": {},
     "output_type": "execute_result"
    }
   ],
   "source": [
    "for pile in game.piles:\n",
    "    print(pile.cards[-1])\n",
    "game.generate_legal_moves()"
   ]
  },
  {
   "cell_type": "code",
   "execution_count": 266,
   "metadata": {},
   "outputs": [
    {
     "data": {
      "text/plain": [
       "[('A', 'C'), (4, 'C'), (9, 'C')]"
      ]
     },
     "execution_count": 266,
     "metadata": {},
     "output_type": "execute_result"
    }
   ],
   "source": [
    "game.piles[0].cards"
   ]
  },
  {
   "cell_type": "code",
   "execution_count": 288,
   "metadata": {},
   "outputs": [
    {
     "name": "stdout",
     "output_type": "stream",
     "text": [
      "0\n",
      "1\n",
      "2\n",
      "3\n",
      "4\n",
      "5\n",
      "6\n",
      "7\n",
      "8\n",
      "9\n"
     ]
    },
    {
     "data": {
      "text/plain": [
       "[None, None, None, None, None, None, None, None, None, None]"
      ]
     },
     "execution_count": 288,
     "metadata": {},
     "output_type": "execute_result"
    }
   ],
   "source": [
    "[ print(a) for a in range(10)]"
   ]
  },
  {
   "cell_type": "code",
   "execution_count": null,
   "metadata": {},
   "outputs": [],
   "source": []
  }
 ],
 "metadata": {
  "interpreter": {
   "hash": "5d591f94785818b435df4881258bbd57da528693019fb2c63deaaf29b9986dd3"
  },
  "kernelspec": {
   "display_name": "Python 3.8.3 64-bit ('base': conda)",
   "language": "python",
   "name": "python3"
  },
  "language_info": {
   "codemirror_mode": {
    "name": "ipython",
    "version": 3
   },
   "file_extension": ".py",
   "mimetype": "text/x-python",
   "name": "python",
   "nbconvert_exporter": "python",
   "pygments_lexer": "ipython3",
   "version": "3.8.3"
  },
  "orig_nbformat": 4
 },
 "nbformat": 4,
 "nbformat_minor": 2
}
