{
 "cells": [
  {
   "cell_type": "code",
   "execution_count": 2,
   "metadata": {},
   "outputs": [
    {
     "name": "stdout",
     "output_type": "stream",
     "text": [
      "[3]\n",
      "[[], [3], [3, 3], [3], [3, 3, 3], [3, 3], [3], [3, 3, 3, 2], [3, 3, 2], [3, 2], [2], [3, 3, 3, 2, 10], [3, 3, 2, 10], [3, 2, 10], [2, 10], [10]]\n",
      "3 1\n"
     ]
    },
    {
     "data": {
      "text/plain": [
       "4"
      ]
     },
     "execution_count": 2,
     "metadata": {},
     "output_type": "execute_result"
    }
   ],
   "source": [
    "import numpy as np\n",
    "import math\n",
    "\n",
    "def count_identical(numbers):\n",
    "    counts = list(np.unique(numbers,return_counts = True)[1])\n",
    "    valid = [math.comb(instance,2) for instance in counts if instance > 1]\n",
    "    print(valid)\n",
    "    return sum(valid)\n",
    "\n",
    "def sub_lists(l):\n",
    "    lists = [[]]\n",
    "    for i in range(len(l) + 1):\n",
    "        for j in range(i):\n",
    "            lists.append(l[j: i])\n",
    "    return lists\n",
    "\n",
    "def check_15(subarrays):\n",
    "    valid = [instance for instance in subarrays if sum(instance) == 15]\n",
    "    return len(valid)\n",
    "    \n",
    "def calculate_score(numbers):\n",
    "    identical_score = count_identical(numbers)\n",
    "    subarrays = sub_lists(numbers)\n",
    "    print(subarrays)\n",
    "    fifteen_score = check_15(subarrays)\n",
    "    print(identical_score,fifteen_score)\n",
    "    return identical_score + fifteen_score\n",
    "\n",
    "numbers = [3,3,3,2,10]\n",
    "calculate_score(numbers)"
   ]
  },
  {
   "cell_type": "code",
   "execution_count": 5,
   "metadata": {},
   "outputs": [
    {
     "name": "stdout",
     "output_type": "stream",
     "text": [
      "15 []\n",
      "12 [3]\n",
      "10 [3, 2]\n",
      "0 [3, 2, 10]\n",
      "YAY [3, 2, 10]\n"
     ]
    }
   ],
   "source": [
    "all_paths = 0\n",
    "def sum_15(current,options,path,score):\n",
    "    print(current,path)\n",
    "    if current == 0:\n",
    "        print(\"YAY\",path)\n",
    "        current = 15\n",
    "        path = []\n",
    "        return\n",
    "        #all_paths += 1\n",
    "    for i in range(len(options)):\n",
    "        if not(options[i] in path):\n",
    "            path.append(options[i])\n",
    "            current -= options[i]\n",
    "            sum_15(current,options,path,score)\n",
    "\n",
    "sum_15(15,numbers,[],0)"
   ]
  },
  {
   "cell_type": "code",
   "execution_count": 74,
   "metadata": {},
   "outputs": [
    {
     "data": {
      "text/plain": [
       "12"
      ]
     },
     "execution_count": 74,
     "metadata": {},
     "output_type": "execute_result"
    }
   ],
   "source": [
    "a = 10\n",
    "\n",
    "def add(b):\n",
    "    return a+b\n",
    "add(2)"
   ]
  },
  {
   "cell_type": "code",
   "execution_count": null,
   "metadata": {},
   "outputs": [
    {
     "data": {
      "text/plain": [
       "1"
      ]
     },
     "execution_count": 33,
     "metadata": {},
     "output_type": "execute_result"
    }
   ],
   "source": []
  },
  {
   "cell_type": "code",
   "execution_count": 32,
   "metadata": {},
   "outputs": [
    {
     "data": {
      "text/plain": [
       "[[], [1], [1, 2], [2], [1, 2, 3], [2, 3], [3]]"
      ]
     },
     "execution_count": 32,
     "metadata": {},
     "output_type": "execute_result"
    }
   ],
   "source": [
    "sub_lists([1,2,3])"
   ]
  },
  {
   "cell_type": "code",
   "execution_count": 22,
   "metadata": {},
   "outputs": [],
   "source": [
    "subArrays([10,5,2,3],0,0)"
   ]
  },
  {
   "cell_type": "code",
   "execution_count": 20,
   "metadata": {},
   "outputs": [
    {
     "data": {
      "text/plain": [
       "1"
      ]
     },
     "execution_count": 20,
     "metadata": {},
     "output_type": "execute_result"
    }
   ],
   "source": [
    "count_identical([8,8,8])"
   ]
  },
  {
   "cell_type": "code",
   "execution_count": null,
   "metadata": {},
   "outputs": [],
   "source": []
  }
 ],
 "metadata": {
  "interpreter": {
   "hash": "5d591f94785818b435df4881258bbd57da528693019fb2c63deaaf29b9986dd3"
  },
  "kernelspec": {
   "display_name": "Python 3.8.3 ('base')",
   "language": "python",
   "name": "python3"
  },
  "language_info": {
   "codemirror_mode": {
    "name": "ipython",
    "version": 3
   },
   "file_extension": ".py",
   "mimetype": "text/x-python",
   "name": "python",
   "nbconvert_exporter": "python",
   "pygments_lexer": "ipython3",
   "version": "3.8.3"
  },
  "orig_nbformat": 4
 },
 "nbformat": 4,
 "nbformat_minor": 2
}
