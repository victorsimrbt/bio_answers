{
 "cells": [
  {
   "cell_type": "code",
   "execution_count": 4,
   "metadata": {},
   "outputs": [],
   "source": [
    "def find_adjacency(string,q):\n",
    "    target = string[0]\n",
    "    length =0 \n",
    "    for i in range(len(string)):\n",
    "        if string[i] == target:\n",
    "            length += 1\n",
    "        else:\n",
    "            if length > q:\n",
    "                return False\n",
    "            target = string[i]\n",
    "            length = 1\n",
    "    if length > q:\n",
    "        return False\n",
    "    return True"
   ]
  },
  {
   "cell_type": "code",
   "execution_count": 7,
   "metadata": {},
   "outputs": [
    {
     "name": "stdout",
     "output_type": "stream",
     "text": [
      "YEAH\n",
      "('H', 'F', 'A', 'C', 'C', 'B', 'F', 'G')\n"
     ]
    }
   ],
   "source": [
    "import string\n",
    "import itertools\n",
    "\n",
    "p = 8\n",
    "q = 8\n",
    "r = 8\n",
    "n = 16000111\n",
    "\n",
    "options = string.ascii_uppercase[:p]\n",
    "\n",
    "all_combos = []\n",
    "for v in itertools.product(options, repeat=r):\n",
    "    all_combos.append(v)\n",
    "print(\"YEAH\")\n",
    "counter = 0\n",
    "for i in range(len(all_combos)):\n",
    "    if find_adjacency(all_combos[i],q):\n",
    "        counter += 1\n",
    "    if counter == n:\n",
    "        print(all_combos[i])"
   ]
  },
  {
   "cell_type": "code",
   "execution_count": 35,
   "metadata": {},
   "outputs": [
    {
     "data": {
      "text/plain": [
       "'AAB'"
      ]
     },
     "execution_count": 35,
     "metadata": {},
     "output_type": "execute_result"
    }
   ],
   "source": [
    "valid_combos[0]"
   ]
  },
  {
   "cell_type": "code",
   "execution_count": null,
   "metadata": {},
   "outputs": [],
   "source": []
  }
 ],
 "metadata": {
  "interpreter": {
   "hash": "5d591f94785818b435df4881258bbd57da528693019fb2c63deaaf29b9986dd3"
  },
  "kernelspec": {
   "display_name": "Python 3.8.3 ('base')",
   "language": "python",
   "name": "python3"
  },
  "language_info": {
   "codemirror_mode": {
    "name": "ipython",
    "version": 3
   },
   "file_extension": ".py",
   "mimetype": "text/x-python",
   "name": "python",
   "nbconvert_exporter": "python",
   "pygments_lexer": "ipython3",
   "version": "3.8.3"
  },
  "orig_nbformat": 4
 },
 "nbformat": 4,
 "nbformat_minor": 2
}
