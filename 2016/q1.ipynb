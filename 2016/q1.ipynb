{
 "cells": [
  {
   "cell_type": "code",
   "execution_count": 52,
   "metadata": {},
   "outputs": [],
   "source": [
    "'''\n",
    "Left and right choicese\n",
    "\n",
    "- combine last value before left and value before right\n",
    "- if left is l/m and right is r/s new value is (l+r)/(m+s)\n",
    "- default l to 1 and m to 0, r to 0 and s to 1\n",
    "- \n",
    "'''\n",
    "from fractions import Fraction\n",
    "import numpy as np\n",
    "\n",
    "class promenade():\n",
    "    def __init__(self,instructions):\n",
    "        self.instructions = instructions\n",
    "        self.default = [1,1]\n",
    "        self.choices = [self.default]\n",
    "        self.left_right = []\n",
    "        \n",
    "    def last_before_left(self):\n",
    "        lefts = [i for i, x in enumerate(self.left_right) if x == \"L\"]\n",
    "        if not(lefts):\n",
    "            return [1,0]\n",
    "        else:\n",
    "            last_left = max(lefts)\n",
    "            return np.array(self.choices[last_left])\n",
    "        \n",
    "    def last_before_right(self):\n",
    "        rights = [i for i, x in enumerate(self.left_right) if x == \"R\"]\n",
    "        if not(rights):\n",
    "            return [0,1]\n",
    "        else:\n",
    "            last_right = max(rights)\n",
    "            return np.array(self.choices[last_right])\n",
    "        \n",
    "    def add(self,string):\n",
    "        self.left_right.append(string)\n",
    "        #print(self.choices)\n",
    "        #print(self.left_right)\n",
    "        last_before_left = self.last_before_left()\n",
    "        #print(\"L\",last_before_left)\n",
    "        last_before_right = self.last_before_right()\n",
    "        #print(\"R\",last_before_right)\n",
    "        new_fraction = last_before_left + last_before_right\n",
    "        fraction = Fraction(new_fraction[0],new_fraction[1])\n",
    "        new_fraction = [Fraction(fraction).numerator,Fraction(fraction).denominator]\n",
    "        #print(new_fraction)\n",
    "        self.choices.append(new_fraction)\n",
    "        \n",
    "    def execute(self):\n",
    "        for char in list(self.instructions):\n",
    "            self.add(char)\n",
    "            #print()\n",
    "        final_fractions = self.choices[-1]\n",
    "        print(final_fractions[0],'/',final_fractions[1])\n",
    "    \n",
    "    \n",
    "    "
   ]
  },
  {
   "cell_type": "code",
   "execution_count": 71,
   "metadata": {},
   "outputs": [
    {
     "name": "stdout",
     "output_type": "stream",
     "text": [
      "[1, 2]\n",
      "[2, 3]\n",
      "[3, 5]\n",
      "[5, 8]\n",
      "[8, 13]\n",
      "[13, 21]\n",
      "[21, 34]\n",
      "[34, 55]\n",
      "[55, 89]\n",
      "[89, 144]\n",
      "89 / 144\n"
     ]
    }
   ],
   "source": [
    "p = promenade('LRLRLRLRLR')\n",
    "p.execute()"
   ]
  },
  {
   "cell_type": "code",
   "execution_count": 13,
   "metadata": {},
   "outputs": [
    {
     "data": {
      "text/plain": [
       "[[1, 0], [1, 1], [1, 2]]"
      ]
     },
     "execution_count": 13,
     "metadata": {},
     "output_type": "execute_result"
    }
   ],
   "source": [
    "p.left_choices"
   ]
  },
  {
   "cell_type": "code",
   "execution_count": 14,
   "metadata": {},
   "outputs": [],
   "source": [
    "a = [0]"
   ]
  },
  {
   "cell_type": "code",
   "execution_count": 15,
   "metadata": {},
   "outputs": [
    {
     "ename": "IndexError",
     "evalue": "list index out of range",
     "output_type": "error",
     "traceback": [
      "\u001b[1;31m---------------------------------------------------------------------------\u001b[0m",
      "\u001b[1;31mIndexError\u001b[0m                                Traceback (most recent call last)",
      "\u001b[1;32m<ipython-input-15-72069be183a9>\u001b[0m in \u001b[0;36m<module>\u001b[1;34m\u001b[0m\n\u001b[1;32m----> 1\u001b[1;33m \u001b[0ma\u001b[0m\u001b[1;33m[\u001b[0m\u001b[1;33m-\u001b[0m\u001b[1;36m2\u001b[0m\u001b[1;33m]\u001b[0m\u001b[1;33m\u001b[0m\u001b[1;33m\u001b[0m\u001b[0m\n\u001b[0m",
      "\u001b[1;31mIndexError\u001b[0m: list index out of range"
     ]
    }
   ],
   "source": [
    "a[-2]"
   ]
  },
  {
   "cell_type": "code",
   "execution_count": 22,
   "metadata": {},
   "outputs": [
    {
     "ename": "NameError",
     "evalue": "name 'choices' is not defined",
     "output_type": "error",
     "traceback": [
      "\u001b[1;31m---------------------------------------------------------------------------\u001b[0m",
      "\u001b[1;31mNameError\u001b[0m                                 Traceback (most recent call last)",
      "\u001b[1;32m<ipython-input-22-af643de2f0a8>\u001b[0m in \u001b[0;36m<module>\u001b[1;34m\u001b[0m\n\u001b[1;32m----> 1\u001b[1;33m \u001b[0mindices\u001b[0m \u001b[1;33m=\u001b[0m \u001b[1;33m[\u001b[0m\u001b[0mi\u001b[0m \u001b[1;32mfor\u001b[0m \u001b[0mi\u001b[0m\u001b[1;33m,\u001b[0m \u001b[0mx\u001b[0m \u001b[1;32min\u001b[0m \u001b[0menumerate\u001b[0m\u001b[1;33m(\u001b[0m\u001b[0mchoices\u001b[0m\u001b[1;33m)\u001b[0m \u001b[1;32mif\u001b[0m \u001b[0mx\u001b[0m \u001b[1;33m==\u001b[0m \u001b[1;34m\"whatever\"\u001b[0m\u001b[1;33m]\u001b[0m\u001b[1;33m\u001b[0m\u001b[1;33m\u001b[0m\u001b[0m\n\u001b[0m",
      "\u001b[1;31mNameError\u001b[0m: name 'choices' is not defined"
     ]
    }
   ],
   "source": [
    "indices = [i for i, x in enumerate(choices) if x == \"whatever\"]"
   ]
  },
  {
   "cell_type": "code",
   "execution_count": null,
   "metadata": {},
   "outputs": [],
   "source": []
  }
 ],
 "metadata": {
  "interpreter": {
   "hash": "5d591f94785818b435df4881258bbd57da528693019fb2c63deaaf29b9986dd3"
  },
  "kernelspec": {
   "display_name": "Python 3.8.3 64-bit ('base': conda)",
   "language": "python",
   "name": "python3"
  },
  "language_info": {
   "codemirror_mode": {
    "name": "ipython",
    "version": 3
   },
   "file_extension": ".py",
   "mimetype": "text/x-python",
   "name": "python",
   "nbconvert_exporter": "python",
   "pygments_lexer": "ipython3",
   "version": "3.8.3"
  },
  "orig_nbformat": 4
 },
 "nbformat": 4,
 "nbformat_minor": 2
}
