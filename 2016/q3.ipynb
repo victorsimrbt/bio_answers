{
 "cells": [
  {
   "cell_type": "code",
   "execution_count": 1,
   "metadata": {},
   "outputs": [],
   "source": [
    "from sympy import primerange\n",
    "from itertools import combinations\n",
    "import numpy as np"
   ]
  },
  {
   "cell_type": "code",
   "execution_count": 2,
   "metadata": {},
   "outputs": [],
   "source": [
    "possible_primes = list(primerange(0,100))\n",
    "all_combinations = list(combinations(possible_primes,2))\n",
    "distances = [abs(instance[0]-instance[1]) for instance in all_combinations]\n",
    "two_powers = [2**i for i in range(100)]\n",
    "possible_combinations = [all_combinations[i] for i in range(len(distances)) if distances[i] in two_powers]"
   ]
  },
  {
   "cell_type": "code",
   "execution_count": 3,
   "metadata": {},
   "outputs": [],
   "source": [
    "class Node:\n",
    "    def __init__(self,num):\n",
    "        self.num = num\n",
    "        self.connections = []\n",
    "    def calculate_values(self):\n",
    "        self.connection_values = []\n",
    "        for Node in self.connections:\n",
    "            self.connection_values.append(Node.num)\n",
    "        \n",
    "all_nodes = [Node(value) for value in np.unique(possible_combinations)]\n",
    "unique = list(np.unique(possible_combinations))"
   ]
  },
  {
   "cell_type": "code",
   "execution_count": 4,
   "metadata": {},
   "outputs": [],
   "source": [
    "for combination in possible_combinations:\n",
    "    value_one,value_two = combination\n",
    "    node_one = all_nodes[unique.index(value_one)]\n",
    "    node_two = all_nodes[unique.index(value_two)]\n",
    "    node_one.connections.append(node_two)\n",
    "    node_one.calculate_values()\n",
    "    node_two.connections.append(node_one)\n",
    "    node_two.calculate_values()"
   ]
  },
  {
   "cell_type": "code",
   "execution_count": 31,
   "metadata": {},
   "outputs": [],
   "source": [
    "\n",
    "def search(node,goal,array,all_arrays):\n",
    "    array.append(node)\n",
    "    node_values = [cool_node.num for cool_node in node.connections]\n",
    "    print(node.num,node_values,goal)\n",
    "    if goal in node_values:\n",
    "        print(\"YEAH\")\n",
    "        array.append(node.connections[node_values.index(goal)])\n",
    "        array = [node.num for node in array]\n",
    "        all_arrays.append(array)\n",
    "        array = []\n",
    "        return array\n",
    "    for connected_node in node.connections:\n",
    "        if not(connected_node) in array:\n",
    "            search(connected_node,goal,array,all_arrays)\n",
    "    return all_arrays"
   ]
  },
  {
   "cell_type": "code",
   "execution_count": 32,
   "metadata": {},
   "outputs": [
    {
     "name": "stdout",
     "output_type": "stream",
     "text": [
      "2 [3] 13\n",
      "3 [2, 5, 7, 11, 19, 67] 13\n",
      "5 [3, 7, 13, 37] 13\n",
      "YEAH\n",
      "7 [3, 5, 11, 23, 71] 13\n",
      "11 [3, 7, 13, 19, 43] 13\n",
      "YEAH\n",
      "23 [7, 19, 31] 13\n",
      "19 [3, 11, 17, 23, 83] 13\n",
      "17 [13, 19] 13\n",
      "YEAH\n",
      "83 [19, 67, 79] 13\n",
      "67 [3, 59, 71, 83] 13\n",
      "59 [43, 61, 67] 13\n",
      "43 [11, 41, 47, 59] 13\n",
      "41 [37, 43, 73] 13\n",
      "37 [5, 29, 41, 53] 13\n",
      "29 [13, 31, 37, 61] 13\n",
      "YEAH\n",
      "53 [37, 61] 13\n",
      "61 [29, 53, 59] 13\n",
      "73 [41, 71, 89] 13\n",
      "71 [7, 67, 73, 79] 13\n",
      "79 [47, 71, 83] 13\n",
      "47 [31, 43, 79] 13\n",
      "31 [23, 29, 47] 13\n",
      "89 [73, 97] 13\n",
      "97 [89] 13\n"
     ]
    }
   ],
   "source": [
    "two = all_nodes[unique.index(2)]\n",
    "array = search(two,13,[],[])"
   ]
  },
  {
   "cell_type": "code",
   "execution_count": 33,
   "metadata": {},
   "outputs": [
    {
     "data": {
      "text/plain": [
       "[[2, 3, 5, 13],\n",
       " [2, 3, 5, 13, 7, 11, 13],\n",
       " [2, 3, 5, 13, 7, 11, 13, 23, 19, 17, 13],\n",
       " [2, 3, 5, 13, 7, 11, 13, 23, 19, 17, 13, 83, 67, 59, 43, 41, 37, 29, 13]]"
      ]
     },
     "execution_count": 33,
     "metadata": {},
     "output_type": "execute_result"
    }
   ],
   "source": [
    "array"
   ]
  },
  {
   "cell_type": "code",
   "execution_count": null,
   "metadata": {},
   "outputs": [],
   "source": [
    "two = all_nodes[unique.index(2)]\n",
    "thirteen = all_nodes[unique.index(13)]\n",
    "path = search(two,thirteen,[two])"
   ]
  },
  {
   "cell_type": "code",
   "execution_count": null,
   "metadata": {},
   "outputs": [],
   "source": [
    "path"
   ]
  },
  {
   "cell_type": "code",
   "execution_count": null,
   "metadata": {},
   "outputs": [],
   "source": []
  }
 ],
 "metadata": {
  "interpreter": {
   "hash": "5d591f94785818b435df4881258bbd57da528693019fb2c63deaaf29b9986dd3"
  },
  "kernelspec": {
   "display_name": "Python 3.8.3 64-bit ('base': conda)",
   "language": "python",
   "name": "python3"
  },
  "language_info": {
   "codemirror_mode": {
    "name": "ipython",
    "version": 3
   },
   "file_extension": ".py",
   "mimetype": "text/x-python",
   "name": "python",
   "nbconvert_exporter": "python",
   "pygments_lexer": "ipython3",
   "version": "3.8.3"
  },
  "orig_nbformat": 4
 },
 "nbformat": 4,
 "nbformat_minor": 2
}
