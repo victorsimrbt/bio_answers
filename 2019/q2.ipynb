{
 "cells": [
  {
   "cell_type": "code",
   "execution_count": null,
   "metadata": {},
   "outputs": [],
   "source": [
    "class Coord():\n",
    "    def __init__(self,x,y):\n",
    "        self.x = x \n",
    "        self.y = y\n",
    "    def adjacent(self,x,y):\n",
    "        return [Coord(self.x+1,self.x+1),\n",
    "                Coord(self.x-1,self.x-1),\n",
    "                Coord(self.x+1,self.x-1),\n",
    "                Coord(self.x+1,self.x-1)]\n",
    "        \n",
    "\n",
    "\n",
    "class Explorer():\n",
    "    def __init__(self,instructions):\n",
    "        self.instructions = instructions\n",
    "        self.position = [0,0]\n",
    "        # ! forward, left, right and down\n",
    "        self.front = [0,1]\n",
    "        self.index = 0\n",
    "    def rotate(self):\n",
    "        f = [a+b for a in self.front for b in self.position]\n",
    "        r = [a+b for a in self.front for b in self.position]\n",
    "    def move(self,instruction):\n",
    "        if instruction == 'r':\n",
    "            self.position[\n",
    "        elif instruction == 'l':\n",
    "            self.position[0] -= 1\n",
    "        elif instruction == 'f':\n",
    "            self.position[0] += 1\n",
    "    def move():\n",
    "        "
   ]
  },
  {
   "cell_type": "code",
   "execution_count": null,
   "metadata": {},
   "outputs": [],
   "source": [
    "class Env():\n",
    "    def __init__(self):\n",
    "        self.trail_squares = []"
   ]
  },
  {
   "cell_type": "code",
   "execution_count": 1,
   "metadata": {},
   "outputs": [
    {
     "data": {
      "text/plain": [
       "(0, 0, 0, 1)"
      ]
     },
     "execution_count": 1,
     "metadata": {},
     "output_type": "execute_result"
    }
   ],
   "source": [
    "(0,0] + (0,1)"
   ]
  },
  {
   "cell_type": "code",
   "execution_count": null,
   "metadata": {},
   "outputs": [],
   "source": []
  }
 ],
 "metadata": {
  "interpreter": {
   "hash": "5d591f94785818b435df4881258bbd57da528693019fb2c63deaaf29b9986dd3"
  },
  "kernelspec": {
   "display_name": "Python 3.8.3 64-bit ('base': conda)",
   "language": "python",
   "name": "python3"
  },
  "language_info": {
   "codemirror_mode": {
    "name": "ipython",
    "version": 3
   },
   "file_extension": ".py",
   "mimetype": "text/x-python",
   "name": "python",
   "nbconvert_exporter": "python",
   "pygments_lexer": "ipython3",
   "version": "3.8.3"
  },
  "orig_nbformat": 4
 },
 "nbformat": 4,
 "nbformat_minor": 2
}
