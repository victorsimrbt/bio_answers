{
 "cells": [
  {
   "cell_type": "code",
   "execution_count": 41,
   "metadata": {},
   "outputs": [],
   "source": [
    "a = 0\n",
    "b = 0\n",
    "class Clock():\n",
    "    def __init__(self,fast):\n",
    "        self.fast = fast\n",
    "        self.time = 0\n",
    "    def update_time(self):\n",
    "        self.time += 60\n",
    "        self.time += self.fast\n",
    "        "
   ]
  },
  {
   "cell_type": "code",
   "execution_count": 139,
   "metadata": {},
   "outputs": [
    {
     "name": "stdout",
     "output_type": "stream",
     "text": [
      "1440\n",
      "00:00\n"
     ]
    }
   ],
   "source": [
    "\n",
    "clock_1 = Clock(1)\n",
    "clock_2 = Clock(2)\n",
    "counter = 0\n",
    "while True:\n",
    "    if (clock_1.time % 1440 == clock_2.time % 1440 and counter != 0):\n",
    "        break\n",
    "    counter += 1\n",
    "    clock_1.update_time()\n",
    "    clock_2.update_time()\n",
    "print(counter)\n",
    "print(strftime(\"%H:%M\", gmtime(clock_1.time*60)))"
   ]
  },
  {
   "cell_type": "code",
   "execution_count": 124,
   "metadata": {},
   "outputs": [
    {
     "name": "stdout",
     "output_type": "stream",
     "text": [
      "12:00\n"
     ]
    }
   ],
   "source": [
    "from time import strftime, gmtime\n",
    "\n",
    "# number of minutes\n",
    "a = -1\n",
    "# number of minutes\n",
    "b = 0\n",
    "\n",
    "i = input()\n",
    "\n",
    "fast = [int(x) for x in i.split()]\n",
    "\n",
    "actual = 0\n",
    "\n",
    "while a != b:\n",
    "    if a == -1:\n",
    "        a = 0\n",
    "    a = (a + 60 + fast[0]) % 1440\n",
    "    b = (b + 60 + fast[1]) % 1440\n",
    "    actual = (actual + 60) % 1440\n",
    "\n",
    "print(strftime(\"%H:%M\", gmtime(a*60)))"
   ]
  },
  {
   "cell_type": "code",
   "execution_count": 99,
   "metadata": {},
   "outputs": [
    {
     "data": {
      "text/plain": [
       "(97, 145)"
      ]
     },
     "execution_count": 99,
     "metadata": {},
     "output_type": "execute_result"
    }
   ],
   "source": [
    "(2928*2) //60, (4368*2)//60"
   ]
  },
  {
   "cell_type": "code",
   "execution_count": 103,
   "metadata": {},
   "outputs": [
    {
     "data": {
      "text/plain": [
       "(48, 48, 4, 4)"
      ]
     },
     "execution_count": 103,
     "metadata": {},
     "output_type": "execute_result"
    }
   ],
   "source": [
    "2928 % 60, 4368 % 60, 2928 % 60 //12 , 2928 % 60 //12"
   ]
  },
  {
   "cell_type": "code",
   "execution_count": 83,
   "metadata": {},
   "outputs": [
    {
     "data": {
      "text/plain": [
       "36"
      ]
     },
     "execution_count": 83,
     "metadata": {},
     "output_type": "execute_result"
    }
   ],
   "source": [
    "2184 // 60"
   ]
  },
  {
   "cell_type": "code",
   "execution_count": 64,
   "metadata": {},
   "outputs": [
    {
     "data": {
      "text/plain": [
       "1464"
      ]
     },
     "execution_count": 64,
     "metadata": {},
     "output_type": "execute_result"
    }
   ],
   "source": [
    "clock_1.time"
   ]
  },
  {
   "cell_type": "code",
   "execution_count": 63,
   "metadata": {},
   "outputs": [
    {
     "data": {
      "text/plain": [
       "24"
      ]
     },
     "execution_count": 63,
     "metadata": {},
     "output_type": "execute_result"
    }
   ],
   "source": [
    "counter"
   ]
  },
  {
   "cell_type": "code",
   "execution_count": 47,
   "metadata": {},
   "outputs": [
    {
     "data": {
      "text/plain": [
       "72"
      ]
     },
     "execution_count": 47,
     "metadata": {},
     "output_type": "execute_result"
    }
   ],
   "source": [
    "4368//60"
   ]
  },
  {
   "cell_type": "code",
   "execution_count": null,
   "metadata": {},
   "outputs": [],
   "source": []
  }
 ],
 "metadata": {
  "interpreter": {
   "hash": "5d591f94785818b435df4881258bbd57da528693019fb2c63deaaf29b9986dd3"
  },
  "kernelspec": {
   "display_name": "Python 3.8.3 64-bit ('base': conda)",
   "language": "python",
   "name": "python3"
  },
  "language_info": {
   "codemirror_mode": {
    "name": "ipython",
    "version": 3
   },
   "file_extension": ".py",
   "mimetype": "text/x-python",
   "name": "python",
   "nbconvert_exporter": "python",
   "pygments_lexer": "ipython3",
   "version": "3.8.3"
  },
  "orig_nbformat": 4
 },
 "nbformat": 4,
 "nbformat_minor": 2
}
