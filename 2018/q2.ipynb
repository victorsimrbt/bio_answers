{
 "cells": [
  {
   "cell_type": "code",
   "execution_count": 27,
   "metadata": {},
   "outputs": [],
   "source": [
    "import string\n",
    "n = 5\n",
    "a_z = list(string.ascii_uppercase)\n",
    "new_dial = []\n",
    "\n",
    "counter = 0\n",
    "list_index = 0\n",
    "while a_z:\n",
    "    counter += 1\n",
    "    list_index += 1\n",
    "    if list_index % 26 == 0:\n",
    "        list_index = 0\n",
    "    if counter % (n-1) == 0:\n",
    "        if list_index < len(a_z):\n",
    "            new_dial.append(a_z[list_index])\n",
    "            a_z.remove(a_z[list_index])"
   ]
  },
  {
   "cell_type": "code",
   "execution_count": 52,
   "metadata": {},
   "outputs": [],
   "source": []
  },
  {
   "cell_type": "code",
   "execution_count": 17,
   "metadata": {},
   "outputs": [
    {
     "data": {
      "text/plain": [
       "336"
      ]
     },
     "execution_count": 17,
     "metadata": {},
     "output_type": "execute_result"
    }
   ],
   "source": [
    "import string\n",
    "n = 10\n",
    "plaintext = 'AXRUITURIX'\n",
    "cipher_text = ''\n",
    "\n",
    "a_z = list(string.ascii_uppercase)\n",
    "new_dial = []\n",
    "counter = 0\n",
    "while a_z:\n",
    "    terms_remove = []\n",
    "    for term in a_z:\n",
    "        counter += 1\n",
    "        if counter % n == 0:\n",
    "            new_dial.append(term)\n",
    "            terms_remove.append(term)\n",
    "    for term in terms_remove:\n",
    "        a_z.remove(term)\n",
    "        \n",
    "a_z = list(string.ascii_uppercase)\n",
    "def shift_list(lst):\n",
    "    new_list = []\n",
    "    for i in range(len(lst)-1):\n",
    "        new_list.append(lst[i+1])\n",
    "    new_list.append(lst[0])\n",
    "    return new_list\n",
    "\n",
    "new_cipher_text = ''\n",
    "cipher_text = plaintext\n",
    "encryptions = 0\n",
    "while new_cipher_text != plaintext:\n",
    "    new_cipher_text = ''\n",
    "    for char in list(cipher_text):\n",
    "        new_letter = new_dial[a_z.index(char)]\n",
    "        new_cipher_text += new_letter\n",
    "    cipher_text = new_cipher_text\n",
    "    encryptions += 1\n",
    "encryptions"
   ]
  },
  {
   "cell_type": "code",
   "execution_count": 54,
   "metadata": {},
   "outputs": [
    {
     "data": {
      "text/plain": [
       "'EOYK'"
      ]
     },
     "execution_count": 54,
     "metadata": {},
     "output_type": "execute_result"
    }
   ],
   "source": [
    "cipher_text"
   ]
  },
  {
   "cell_type": "code",
   "execution_count": 69,
   "metadata": {},
   "outputs": [
    {
     "data": {
      "text/plain": [
       "12"
      ]
     },
     "execution_count": 69,
     "metadata": {},
     "output_type": "execute_result"
    }
   ],
   "source": [
    "1000000000%26"
   ]
  },
  {
   "cell_type": "code",
   "execution_count": 84,
   "metadata": {},
   "outputs": [
    {
     "name": "stdout",
     "output_type": "stream",
     "text": [
      "L\n",
      "K\n",
      "B\n",
      "X\n",
      "I\n",
      "Y\n"
     ]
    }
   ],
   "source": [
    "a_z = list(string.ascii_uppercase)\n",
    "end_index = 0\n",
    "for i in range(6):\n",
    "    print(a_z[(1000000000+end_index)%(26-i)-1])\n",
    "    a_z.remove(a_z[(1000000000+end_index)%(26-i)-1])\n",
    "    end_index = (1000000000+end_index)%(26-i)-1"
   ]
  },
  {
   "cell_type": "code",
   "execution_count": null,
   "metadata": {},
   "outputs": [],
   "source": []
  }
 ],
 "metadata": {
  "interpreter": {
   "hash": "5d591f94785818b435df4881258bbd57da528693019fb2c63deaaf29b9986dd3"
  },
  "kernelspec": {
   "display_name": "Python 3.8.3 64-bit ('base': conda)",
   "language": "python",
   "name": "python3"
  },
  "language_info": {
   "codemirror_mode": {
    "name": "ipython",
    "version": 3
   },
   "file_extension": ".py",
   "mimetype": "text/x-python",
   "name": "python",
   "nbconvert_exporter": "python",
   "pygments_lexer": "ipython3",
   "version": "3.8.3"
  },
  "orig_nbformat": 4
 },
 "nbformat": 4,
 "nbformat_minor": 2
}
