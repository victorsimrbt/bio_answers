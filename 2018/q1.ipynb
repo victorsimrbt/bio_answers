{
 "cells": [
  {
   "cell_type": "code",
   "execution_count": 59,
   "metadata": {},
   "outputs": [],
   "source": [
    "import math\n",
    "\n",
    "amount = 10000\n",
    "total_repaid = 0\n",
    "payments = 0 \n",
    "\n",
    "interest, repay = (int(x) for x in input().split(' '))\n",
    "\n",
    "while amount > 0:\n",
    "    interest_month = math.ceil((interest / 100) * amount)\n",
    "    amount += interest_month\n",
    "    repaid = math.ceil((repay / 100) * amount)\n",
    "    repaid = min(max(5000, repaid), amount)\n",
    "    total_repaid += repaid\n",
    "    amount -= repaid\n",
    "    payments += 1\n",
    "\n",
    "print(\"%.2f\" % (total_repaid / 100))"
   ]
  },
  {
   "cell_type": "code",
   "execution_count": 20,
   "metadata": {},
   "outputs": [],
   "source": [
    "possibilities = [[interest,repay] for interest in range(101) for repay in range(101)]"
   ]
  },
  {
   "cell_type": "code",
   "execution_count": 21,
   "metadata": {},
   "outputs": [
    {
     "data": {
      "text/plain": [
       "[100, 99]"
      ]
     },
     "execution_count": 21,
     "metadata": {},
     "output_type": "execute_result"
    }
   ],
   "source": [
    "possibilities[-2]"
   ]
  },
  {
   "cell_type": "code",
   "execution_count": 25,
   "metadata": {},
   "outputs": [
    {
     "name": "stdout",
     "output_type": "stream",
     "text": [
      "interest: 96%\n",
      "repay: 49%\n"
     ]
    }
   ],
   "source": [
    "import math\n",
    "\n",
    "best = 0\n",
    "best_interest = 0\n",
    "best_repay = 0\n",
    "\n",
    "for interest in range(100):\n",
    "    for repay in range(100):\n",
    "\n",
    "        amount = 10000\n",
    "        total_repaid = 0\n",
    "\n",
    "        while amount > 0:\n",
    "            interest_month = math.ceil((interest / 100) * amount)\n",
    "            amount += interest_month\n",
    "            repaid = math.ceil((repay / 100) * amount)\n",
    "            repaid = min(max(5000, repaid), amount)\n",
    "            total_repaid += repaid\n",
    "            amount -= repaid\n",
    "\n",
    "            if amount >= 10000:\n",
    "                break\n",
    "\n",
    "        if amount == 0:\n",
    "            if total_repaid > best:\n",
    "                best = total_repaid\n",
    "                best_interest = interest\n",
    "                best_repay = repay\n",
    "\n",
    "print(\"interest: %d%%\" % best_interest)\n",
    "print(\"repay: %d%%\" % best_repay)"
   ]
  },
  {
   "cell_type": "code",
   "execution_count": 24,
   "metadata": {},
   "outputs": [
    {
     "data": {
      "text/plain": [
       "[100, 1]"
      ]
     },
     "execution_count": 24,
     "metadata": {},
     "output_type": "execute_result"
    }
   ],
   "source": [
    "possibilities[amounts.index(max(amounts))]"
   ]
  },
  {
   "cell_type": "code",
   "execution_count": 15,
   "metadata": {},
   "outputs": [
    {
     "name": "stdout",
     "output_type": "stream",
     "text": [
      "4\n"
     ]
    },
    {
     "data": {
      "text/plain": [
       "193.39"
      ]
     },
     "execution_count": 15,
     "metadata": {},
     "output_type": "execute_result"
    }
   ],
   "source": [
    "import math\n",
    "def calculate_repaid(interest,repayment):\n",
    "    debt = 100\n",
    "    total_repayment = 0\n",
    "    payments = 0\n",
    "    while debt > 0:\n",
    "        debt = round(debt * (1+interest/100),2)\n",
    "        repayment = max([math.ceil(repayment/100*debt),50])\n",
    "        if repayment == 50 and repayment > debt:\n",
    "            repayment = debt\n",
    "        debt -= repayment\n",
    "        total_repayment += repayment \n",
    "        payments += 1\n",
    "    print(payments)\n",
    "    return total_repayment\n",
    "calculate_repaid(43,46)"
   ]
  },
  {
   "cell_type": "code",
   "execution_count": null,
   "metadata": {},
   "outputs": [],
   "source": []
  }
 ],
 "metadata": {
  "interpreter": {
   "hash": "5d591f94785818b435df4881258bbd57da528693019fb2c63deaaf29b9986dd3"
  },
  "kernelspec": {
   "display_name": "Python 3.8.3 64-bit ('base': conda)",
   "language": "python",
   "name": "python3"
  },
  "language_info": {
   "codemirror_mode": {
    "name": "ipython",
    "version": 3
   },
   "file_extension": ".py",
   "mimetype": "text/x-python",
   "name": "python",
   "nbconvert_exporter": "python",
   "pygments_lexer": "ipython3",
   "version": "3.8.3"
  },
  "orig_nbformat": 4
 },
 "nbformat": 4,
 "nbformat_minor": 2
}
