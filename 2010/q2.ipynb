{
 "cells": [
  {
   "cell_type": "code",
   "execution_count": 244,
   "metadata": {},
   "outputs": [
    {
     "name": "stdout",
     "output_type": "stream",
     "text": [
      "[[1 3 4 2]\n",
      " [5 3 0 2]\n",
      " [1 0 4 5]\n",
      " [1 5 4 0]\n",
      " [0 3 5 2]\n",
      " [4 3 1 2]]\n"
     ]
    }
   ],
   "source": [
    "values = [1,2,3,4,5,6]\n",
    "base_configs = [[2,4,5,3],\n",
    "                [6,4,1,3],\n",
    "                [2,1,5,6],\n",
    "                [2,6,5,1],\n",
    "                [1,4,6,3],\n",
    "                [5,4,2,3]]\n",
    "\n",
    "base_configs = (np.array(base_configs) - 1).astype(list)\n",
    "\n",
    "print(base_configs)\n",
    "\n",
    "direction_dict = {\n",
    "    'U' : 2,\n",
    "    'D' : 0,\n",
    "    'L' : 1,\n",
    "    'R' : 3\n",
    "}\n",
    "\n",
    "opposite_direction_dict = {\n",
    "    'U' : 'D',\n",
    "    'D' : 'U',\n",
    "    'L' : 'R',\n",
    "    'R' : 'L'\n",
    "}\n",
    "\n",
    "ninety_clock_dict = {\n",
    "    'U' : 'R',\n",
    "    'D' : 'L',\n",
    "    'L' : 'U',\n",
    "    'R' : 'D'\n",
    "}\n",
    "\n",
    "ninety_anticlock_dict = {\n",
    "    'U' : 'L',\n",
    "    'D' : 'R',\n",
    "    'L' : 'D',\n",
    "    'R' : 'U'\n",
    "}\n",
    "\n",
    "direction_vector_dict = {\n",
    "    'U' : [-1,0],\n",
    "    'D' : [1,0],\n",
    "    'L' : [0,-1],\n",
    "    'R' : [0,1]\n",
    "}\n",
    "\n",
    "class Face:\n",
    "    def __init__(self,number,configs):\n",
    "        self.configs = configs\n",
    "        self.number = number\n",
    "        self.current_config = configs[0]\n",
    "    def turn(self,dir):\n",
    "        new_top_face = self.current_config[direction_dict[dir]]\n",
    "        # ! A,B,C\n",
    "        # ! New Top Number, B will be the Cth character in the config\n",
    "        return new_top_face,self.number,direction_dict[opposite_direction_dict[dir]]\n",
    "    def reset_config(self,num,idx):\n",
    "        #print(self.configs)\n",
    "        for config in self.configs:\n",
    "            if config[idx] == num:\n",
    "                self.current_config = config\n",
    "    \n",
    "class Dice:\n",
    "    def __init__(self):\n",
    "        self.faces = []\n",
    "        for x in range(6):\n",
    "            config = list(base_configs[x])\n",
    "            possible_configs = []\n",
    "            for i in range(4):\n",
    "                possible_configs.append(config[:])\n",
    "                saved_value = config.pop(0)\n",
    "                config.append(saved_value)\n",
    "            self.faces.append(Face(x+1,possible_configs))\n",
    "        self.current_face = 0\n",
    "        self.current_config = None\n",
    "        self.heading = 'U'\n",
    "    def rotate(self,dir):\n",
    "        new_top_face,number,index = self.faces[self.current_face].turn(dir)\n",
    "        #print(\"GRUSELIG\",number-1,index+1)\n",
    "        self.current_face = new_top_face\n",
    "        self.faces[new_top_face].reset_config(number-1,index)\n",
    "        self.current_config = self.faces[new_top_face].current_config\n",
    "        self.heading = dir"
   ]
  },
  {
   "cell_type": "code",
   "execution_count": 245,
   "metadata": {},
   "outputs": [],
   "source": [
    "dice = Dice()"
   ]
  },
  {
   "cell_type": "code",
   "execution_count": 246,
   "metadata": {},
   "outputs": [],
   "source": [
    "import numpy as np\n",
    "class Grid:\n",
    "    def __init__(self):\n",
    "        self.values = np.ones((11,11))\n",
    "        self.pos = np.array([5,5])\n",
    "        self.dice = Dice()\n",
    "    def update(self):\n",
    "        #print(self.dice.current_face)\n",
    "        #print(self.dice.current_config)\n",
    "        print(self.pos)\n",
    "        value = self.values[self.pos[0]][self.pos[1]]+self.dice.current_face+1\n",
    "        print(value)\n",
    "        if value > 6:\n",
    "            value -= 6\n",
    "        self.values[self.pos[0]][self.pos[1]] = value\n",
    "        heading = self.dice.heading\n",
    "        print(value)\n",
    "        if value == 1 or value == 6:\n",
    "            direction = heading\n",
    "        elif value == 2:\n",
    "            print(\"YEAH\")\n",
    "            direction = ninety_clock_dict[heading]\n",
    "        elif value == 3 or value == 4:\n",
    "            direction = opposite_direction_dict[heading]\n",
    "        elif value == 5:\n",
    "            direction = ninety_anticlock_dict[heading]\n",
    "        self.dice.rotate(direction)\n",
    "        print(direction,self.dice.current_face+1)\n",
    "        if (self.pos + direction_vector_dict[direction])[0] > 10:\n",
    "            self.pos += direction_vector_dict[direction]\n",
    "            self.pos[0] = 0\n",
    "        elif (self.pos + direction_vector_dict[direction])[0] < 0:\n",
    "            self.pos += direction_vector_dict[direction]\n",
    "            self.pos[0] = 10\n",
    "        elif (self.pos + direction_vector_dict[direction])[1] < 0:\n",
    "            self.pos += direction_vector_dict[direction]\n",
    "            self.pos[1] = 10\n",
    "        elif (self.pos + direction_vector_dict[direction])[1] > 10:\n",
    "            self.pos += direction_vector_dict[direction]\n",
    "            self.pos[1] = 0\n",
    "        else:\n",
    "            self.pos += direction_vector_dict[direction]\n",
    "    def set_grid(self,array):\n",
    "        base = np.array([4,4])\n",
    "        for x in range(3):\n",
    "            for y in range(3):\n",
    "                new_base = base +[x,y]\n",
    "                self.values[new_base[0]][new_base[1]] = array[x][y]\n",
    "    def print_grid(self):\n",
    "        base = self.pos-[1,1]\n",
    "        print(base)\n",
    "        for i in range(3):\n",
    "            #print(base[0]+i,base[1]+i)\n",
    "            #print(base[0]+i,base[1]+i+1)\n",
    "            #print(base[0]+i,base[1]+i+2)\n",
    "            if base[0]+i > 10 or base[0]+i < 0 or base[1] > 10 or base[1] < 0:\n",
    "                value_1 = 'X'\n",
    "            else:\n",
    "                value_1 = int(self.values[base[0]+i][base[1]])\n",
    "            \n",
    "            if base[0]+i > 10 or base[0]+i < 0 or base[1]+1 > 10 or base[1]+1 < 0:\n",
    "                value_2 = 'X'\n",
    "            else:\n",
    "                value_2 = int(self.values[base[0]+i][base[1]+1])\n",
    "                \n",
    "            if base[0]+i > 10 or base[0]+i < 0 or base[1]+2 > 10 or base[1]+2 < 0:\n",
    "                value_3 = 'X'\n",
    "            else:\n",
    "                value_3 = int(self.values[base[0]+i][base[1]+2])\n",
    "            print(value_1,\n",
    "                  value_2,\n",
    "                  value_3)"
   ]
  },
  {
   "cell_type": "code",
   "execution_count": 248,
   "metadata": {},
   "outputs": [
    {
     "name": "stdout",
     "output_type": "stream",
     "text": [
      "[5 5]\n",
      "7.0\n",
      "1.0\n",
      "U 5\n",
      "[[1. 1. 1. 1. 1. 1. 1. 1. 1. 1. 1.]\n",
      " [1. 1. 1. 1. 1. 1. 1. 1. 1. 1. 1.]\n",
      " [1. 1. 1. 1. 1. 1. 1. 1. 1. 1. 1.]\n",
      " [1. 1. 1. 1. 1. 1. 1. 1. 1. 1. 1.]\n",
      " [1. 1. 1. 1. 1. 3. 5. 1. 1. 1. 1.]\n",
      " [1. 1. 1. 1. 1. 1. 5. 1. 1. 1. 1.]\n",
      " [1. 1. 1. 1. 1. 1. 5. 1. 1. 1. 1.]\n",
      " [1. 1. 1. 1. 1. 1. 1. 1. 1. 1. 1.]\n",
      " [1. 1. 1. 1. 1. 1. 1. 1. 1. 1. 1.]\n",
      " [1. 1. 1. 1. 1. 1. 1. 1. 1. 1. 1.]\n",
      " [1. 1. 1. 1. 1. 1. 1. 1. 1. 1. 1.]]\n",
      "[4 5]\n",
      "8.0\n",
      "2.0\n",
      "YEAH\n",
      "R 3\n",
      "[[1. 1. 1. 1. 1. 1. 1. 1. 1. 1. 1.]\n",
      " [1. 1. 1. 1. 1. 1. 1. 1. 1. 1. 1.]\n",
      " [1. 1. 1. 1. 1. 1. 1. 1. 1. 1. 1.]\n",
      " [1. 1. 1. 1. 1. 1. 1. 1. 1. 1. 1.]\n",
      " [1. 1. 1. 1. 1. 2. 5. 1. 1. 1. 1.]\n",
      " [1. 1. 1. 1. 1. 1. 5. 1. 1. 1. 1.]\n",
      " [1. 1. 1. 1. 1. 1. 5. 1. 1. 1. 1.]\n",
      " [1. 1. 1. 1. 1. 1. 1. 1. 1. 1. 1.]\n",
      " [1. 1. 1. 1. 1. 1. 1. 1. 1. 1. 1.]\n",
      " [1. 1. 1. 1. 1. 1. 1. 1. 1. 1. 1.]\n",
      " [1. 1. 1. 1. 1. 1. 1. 1. 1. 1. 1.]]\n",
      "[4 6]\n",
      "8.0\n",
      "2.0\n",
      "YEAH\n",
      "D 1\n",
      "[[1. 1. 1. 1. 1. 1. 1. 1. 1. 1. 1.]\n",
      " [1. 1. 1. 1. 1. 1. 1. 1. 1. 1. 1.]\n",
      " [1. 1. 1. 1. 1. 1. 1. 1. 1. 1. 1.]\n",
      " [1. 1. 1. 1. 1. 1. 1. 1. 1. 1. 1.]\n",
      " [1. 1. 1. 1. 1. 2. 2. 1. 1. 1. 1.]\n",
      " [1. 1. 1. 1. 1. 1. 5. 1. 1. 1. 1.]\n",
      " [1. 1. 1. 1. 1. 1. 5. 1. 1. 1. 1.]\n",
      " [1. 1. 1. 1. 1. 1. 1. 1. 1. 1. 1.]\n",
      " [1. 1. 1. 1. 1. 1. 1. 1. 1. 1. 1.]\n",
      " [1. 1. 1. 1. 1. 1. 1. 1. 1. 1. 1.]\n",
      " [1. 1. 1. 1. 1. 1. 1. 1. 1. 1. 1.]]\n",
      "[5 6]\n",
      "6.0\n",
      "6.0\n",
      "D 4\n",
      "[[1. 1. 1. 1. 1. 1. 1. 1. 1. 1. 1.]\n",
      " [1. 1. 1. 1. 1. 1. 1. 1. 1. 1. 1.]\n",
      " [1. 1. 1. 1. 1. 1. 1. 1. 1. 1. 1.]\n",
      " [1. 1. 1. 1. 1. 1. 1. 1. 1. 1. 1.]\n",
      " [1. 1. 1. 1. 1. 2. 2. 1. 1. 1. 1.]\n",
      " [1. 1. 1. 1. 1. 1. 6. 1. 1. 1. 1.]\n",
      " [1. 1. 1. 1. 1. 1. 5. 1. 1. 1. 1.]\n",
      " [1. 1. 1. 1. 1. 1. 1. 1. 1. 1. 1.]\n",
      " [1. 1. 1. 1. 1. 1. 1. 1. 1. 1. 1.]\n",
      " [1. 1. 1. 1. 1. 1. 1. 1. 1. 1. 1.]\n",
      " [1. 1. 1. 1. 1. 1. 1. 1. 1. 1. 1.]]\n",
      "[6 6]\n",
      "9.0\n",
      "3.0\n",
      "U 1\n",
      "[[1. 1. 1. 1. 1. 1. 1. 1. 1. 1. 1.]\n",
      " [1. 1. 1. 1. 1. 1. 1. 1. 1. 1. 1.]\n",
      " [1. 1. 1. 1. 1. 1. 1. 1. 1. 1. 1.]\n",
      " [1. 1. 1. 1. 1. 1. 1. 1. 1. 1. 1.]\n",
      " [1. 1. 1. 1. 1. 2. 2. 1. 1. 1. 1.]\n",
      " [1. 1. 1. 1. 1. 1. 6. 1. 1. 1. 1.]\n",
      " [1. 1. 1. 1. 1. 1. 3. 1. 1. 1. 1.]\n",
      " [1. 1. 1. 1. 1. 1. 1. 1. 1. 1. 1.]\n",
      " [1. 1. 1. 1. 1. 1. 1. 1. 1. 1. 1.]\n",
      " [1. 1. 1. 1. 1. 1. 1. 1. 1. 1. 1.]\n",
      " [1. 1. 1. 1. 1. 1. 1. 1. 1. 1. 1.]]\n",
      "[4 5]\n",
      "2 2 1\n",
      "1 6 1\n",
      "1 3 1\n"
     ]
    }
   ],
   "source": [
    "threebythree = [[1,3,5],\n",
    "                [1,6,5],\n",
    "                [1,1,5]]\n",
    "grid = Grid()\n",
    "grid.set_grid(threebythree)\n",
    "moves = 1\n",
    "for i in range(5):\n",
    "    grid.update()\n",
    "    print(grid.values)\n",
    "grid.print_grid()"
   ]
  },
  {
   "cell_type": "code",
   "execution_count": 215,
   "metadata": {},
   "outputs": [
    {
     "name": "stdout",
     "output_type": "stream",
     "text": [
      "[4 5]\n",
      "3.0 3\n",
      "R 5\n",
      "[4 6]\n",
      "5 1 1\n",
      "5 1 1\n",
      "5 1 1\n"
     ]
    }
   ],
   "source": [
    "moves = 1\n",
    "for i in range(1):\n",
    "    grid.update()\n",
    "grid.print_grid()"
   ]
  },
  {
   "cell_type": "code",
   "execution_count": 121,
   "metadata": {},
   "outputs": [
    {
     "name": "stdout",
     "output_type": "stream",
     "text": [
      "0\n",
      "None\n",
      "GRUSELIG 0 3\n",
      "[[5, 3, 0, 2], [3, 0, 2, 5], [0, 2, 5, 3], [2, 5, 3, 0]]\n",
      "U 1 [5 4]\n",
      "\n",
      "1\n",
      "[5, 3, 0, 2]\n",
      "GRUSELIG 1 4\n",
      "[[1, 5, 4, 0], [5, 4, 0, 1], [4, 0, 1, 5], [0, 1, 5, 4]]\n",
      "R 3 [5 5]\n",
      "\n",
      "3\n",
      "[5, 4, 0, 1]\n",
      "GRUSELIG 3 2\n",
      "[[5, 3, 0, 2], [3, 0, 2, 5], [0, 2, 5, 3], [2, 5, 3, 0]]\n",
      "L 1 [4 5]\n",
      "\n",
      "1\n",
      "[5, 3, 0, 2]\n",
      "GRUSELIG 1 3\n",
      "[[4, 3, 1, 2], [3, 1, 2, 4], [1, 2, 4, 3], [2, 4, 3, 1]]\n",
      "U 5 [4 4]\n",
      "\n",
      "5\n",
      "[4, 3, 1, 2]\n",
      "GRUSELIG 5 3\n",
      "[[0, 3, 5, 2], [3, 5, 2, 0], [5, 2, 0, 3], [2, 0, 3, 5]]\n",
      "U 4 [4 3]\n",
      "\n",
      "4\n",
      "[0, 3, 5, 2]\n",
      "GRUSELIG 4 2\n",
      "[[1, 0, 4, 5], [0, 4, 5, 1], [4, 5, 1, 0], [5, 1, 0, 4]]\n",
      "L 2 [3 3]\n",
      "\n",
      "2\n",
      "[0, 4, 5, 1]\n",
      "GRUSELIG 2 4\n",
      "[[0, 3, 5, 2], [3, 5, 2, 0], [5, 2, 0, 3], [2, 0, 3, 5]]\n",
      "R 4 [3 4]\n",
      "\n",
      "4\n",
      "[0, 3, 5, 2]\n",
      "GRUSELIG 4 3\n",
      "[[1, 3, 4, 2], [3, 4, 2, 1], [4, 2, 1, 3], [2, 1, 3, 4]]\n",
      "U 0 [3 3]\n",
      "\n",
      "0\n",
      "[1, 3, 4, 2]\n",
      "GRUSELIG 0 3\n",
      "[[5, 3, 0, 2], [3, 0, 2, 5], [0, 2, 5, 3], [2, 5, 3, 0]]\n",
      "U 1 [3 2]\n",
      "\n",
      "1\n",
      "[5, 3, 0, 2]\n",
      "GRUSELIG 1 4\n",
      "[[1, 5, 4, 0], [5, 4, 0, 1], [4, 0, 1, 5], [0, 1, 5, 4]]\n",
      "R 3 [3 3]\n",
      "\n"
     ]
    }
   ],
   "source": [
    "grid = Grid()"
   ]
  },
  {
   "cell_type": "code",
   "execution_count": 77,
   "metadata": {},
   "outputs": [
    {
     "data": {
      "text/plain": [
       "array([5, 4])"
      ]
     },
     "execution_count": 77,
     "metadata": {},
     "output_type": "execute_result"
    }
   ],
   "source": [
    "grid.pos"
   ]
  },
  {
   "cell_type": "code",
   "execution_count": 44,
   "metadata": {},
   "outputs": [],
   "source": [
    "dice = Dice()\n",
    "dice.rotate(\"U\")"
   ]
  },
  {
   "cell_type": "code",
   "execution_count": 45,
   "metadata": {},
   "outputs": [
    {
     "data": {
      "text/plain": [
       "1"
      ]
     },
     "execution_count": 45,
     "metadata": {},
     "output_type": "execute_result"
    }
   ],
   "source": [
    "dice.current_face"
   ]
  },
  {
   "cell_type": "code",
   "execution_count": 21,
   "metadata": {},
   "outputs": [
    {
     "data": {
      "text/plain": [
       "2"
      ]
     },
     "execution_count": 21,
     "metadata": {},
     "output_type": "execute_result"
    }
   ],
   "source": [
    "faces[1].number"
   ]
  },
  {
   "cell_type": "code",
   "execution_count": null,
   "metadata": {},
   "outputs": [],
   "source": []
  }
 ],
 "metadata": {
  "interpreter": {
   "hash": "5d591f94785818b435df4881258bbd57da528693019fb2c63deaaf29b9986dd3"
  },
  "kernelspec": {
   "display_name": "Python 3.8.3 ('base')",
   "language": "python",
   "name": "python3"
  },
  "language_info": {
   "codemirror_mode": {
    "name": "ipython",
    "version": 3
   },
   "file_extension": ".py",
   "mimetype": "text/x-python",
   "name": "python",
   "nbconvert_exporter": "python",
   "pygments_lexer": "ipython3",
   "version": "3.8.3"
  },
  "orig_nbformat": 4
 },
 "nbformat": 4,
 "nbformat_minor": 2
}
