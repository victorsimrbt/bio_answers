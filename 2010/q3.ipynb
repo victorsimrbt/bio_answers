{
 "cells": [
  {
   "cell_type": "code",
   "execution_count": 19,
   "metadata": {},
   "outputs": [
    {
     "name": "stdout",
     "output_type": "stream",
     "text": [
      "[0, 0] []\n",
      "[[3, 0], [0, 5]]\n",
      "[[3, 0], [0, 5]]\n",
      "[[3, 0], [0, 5]]\n",
      "PARENT [0, 0]\n",
      "\n",
      "[3, 0] [[3, 0]]\n",
      "[[3, 5]]\n",
      "[[3, 5], [0, 0]]\n",
      "[[3, 5], [0, 0], [0, 3]]\n",
      "PARENT [3, 0]\n",
      "\n",
      "[3, 5] [[3, 0], [3, 5]]\n",
      "[]\n",
      "[[0, 5], [3, 0]]\n",
      "[[0, 5], [3, 0]]\n",
      "PARENT [3, 5]\n",
      "\n",
      "[0, 5] [[3, 0], [3, 5], [0, 5]]\n",
      "[[3, 5]]\n",
      "[[3, 5], [0, 0]]\n",
      "[[3, 5], [0, 0], [3, 2]]\n",
      "PARENT [0, 5]\n",
      "\n",
      "[0, 0] [[3, 0], [3, 5], [0, 5], [0, 0]]\n",
      "[[3, 0], [0, 5]]\n",
      "[[3, 0], [0, 5]]\n",
      "[[3, 0], [0, 5]]\n",
      "PARENT [0, 5]\n",
      "\n",
      "[3, 2] [[3, 0], [3, 5], [0, 5], [0, 0], [3, 2]]\n",
      "[[3, 5]]\n",
      "[[3, 5], [0, 2], [3, 0]]\n",
      "[[3, 5], [0, 2], [3, 0], [0, 5]]\n",
      "PARENT [3, 2]\n",
      "\n",
      "[0, 2] [[3, 0], [3, 5], [0, 5], [0, 0], [3, 2], [0, 2]]\n",
      "[[3, 2], [0, 5]]\n",
      "[[3, 2], [0, 5], [0, 0]]\n",
      "[[3, 2], [0, 5], [0, 0], [2, 0]]\n",
      "PARENT [0, 2]\n",
      "\n",
      "[2, 0] [[3, 0], [3, 5], [0, 5], [0, 0], [3, 2], [0, 2], [2, 0]]\n",
      "[[3, 0], [2, 5]]\n",
      "[[3, 0], [2, 5], [0, 0]]\n",
      "[[3, 0], [2, 5], [0, 0], [0, 2]]\n",
      "PARENT [2, 0]\n",
      "\n",
      "[2, 5] [[3, 0], [3, 5], [0, 5], [0, 0], [3, 2], [0, 2], [2, 0], [2, 5]]\n",
      "[[3, 5]]\n",
      "[[3, 5], [0, 5], [2, 0]]\n",
      "[[3, 5], [0, 5], [2, 0], [3, 2]]\n",
      "PARENT [3, 0]\n",
      "\n",
      "[0, 0] [[3, 0], [3, 5], [0, 5], [0, 0], [3, 2], [0, 2], [2, 0], [2, 5], [0, 0]]\n",
      "[[3, 0], [0, 5]]\n",
      "[[3, 0], [0, 5]]\n",
      "[[3, 0], [0, 5]]\n",
      "PARENT [3, 0]\n",
      "\n",
      "[0, 3] [[3, 0], [3, 5], [0, 5], [0, 0], [3, 2], [0, 2], [2, 0], [2, 5], [0, 0], [0, 3]]\n",
      "[[3, 3], [0, 5]]\n",
      "[[3, 3], [0, 5], [0, 0]]\n",
      "[[3, 3], [0, 5], [0, 0], [3, 0]]\n",
      "PARENT [0, 3]\n",
      "\n",
      "[3, 3] [[3, 0], [3, 5], [0, 5], [0, 0], [3, 2], [0, 2], [2, 0], [2, 5], [0, 0], [0, 3], [3, 3]]\n",
      "[[3, 5]]\n",
      "[[3, 5], [0, 3], [3, 0]]\n",
      "[[3, 5], [0, 3], [3, 0], [-2, 5]]\n",
      "PARENT [3, 3]\n",
      "\n",
      "[-2, 5] [[3, 0], [3, 5], [0, 5], [0, 0], [3, 2], [0, 2], [2, 0], [2, 5], [0, 0], [0, 3], [3, 3], [-2, 5]]\n",
      "[[3, 5]]\n",
      "[[3, 5], [0, 5], [-2, 0]]\n",
      "[[3, 5], [0, 5], [-2, 0], [3, 0]]\n",
      "PARENT [-2, 5]\n",
      "\n",
      "[-2, 0] [[3, 0], [3, 5], [0, 5], [0, 0], [3, 2], [0, 2], [2, 0], [2, 5], [0, 0], [0, 3], [3, 3], [-2, 5], [-2, 0]]\n",
      "[[3, 0], [-2, 5]]\n",
      "[[3, 0], [-2, 5], [0, 0]]\n",
      "[[3, 0], [-2, 5], [0, 0], [0, -2]]\n",
      "PARENT [-2, 0]\n",
      "\n",
      "[0, -2] [[3, 0], [3, 5], [0, 5], [0, 0], [3, 2], [0, 2], [2, 0], [2, 5], [0, 0], [0, 3], [3, 3], [-2, 5], [-2, 0], [0, -2]]\n",
      "[[3, -2], [0, 5]]\n",
      "[[3, -2], [0, 5], [0, 0]]\n",
      "[[3, -2], [0, 5], [0, 0], [-2, 0]]\n",
      "PARENT [0, -2]\n",
      "\n",
      "[3, -2] [[3, 0], [3, 5], [0, 5], [0, 0], [3, 2], [0, 2], [2, 0], [2, 5], [0, 0], [0, 3], [3, 3], [-2, 5], [-2, 0], [0, -2], [3, -2]]\n",
      "[[3, 5]]\n",
      "[[3, 5], [0, -2], [3, 0]]\n",
      "[[3, 5], [0, -2], [3, 0], [0, 1]]\n",
      "PARENT [3, -2]\n",
      "\n",
      "[0, 1] [[3, 0], [3, 5], [0, 5], [0, 0], [3, 2], [0, 2], [2, 0], [2, 5], [0, 0], [0, 3], [3, 3], [-2, 5], [-2, 0], [0, -2], [3, -2], [0, 1]]\n",
      "[[3, 1], [0, 5]]\n",
      "[[3, 1], [0, 5], [0, 0]]\n",
      "[[3, 1], [0, 5], [0, 0], [1, 0]]\n",
      "PARENT [0, 1]\n",
      "\n",
      "[3, 1] [[3, 0], [3, 5], [0, 5], [0, 0], [3, 2], [0, 2], [2, 0], [2, 5], [0, 0], [0, 3], [3, 3], [-2, 5], [-2, 0], [0, -2], [3, -2], [0, 1], [3, 1]]\n",
      "[[3, 5]]\n",
      "[[3, 5], [0, 1], [3, 0]]\n",
      "[[3, 5], [0, 1], [3, 0], [0, 4]]\n",
      "PARENT [0, 1]\n",
      "\n",
      "[1, 0] [[3, 0], [3, 5], [0, 5], [0, 0], [3, 2], [0, 2], [2, 0], [2, 5], [0, 0], [0, 3], [3, 3], [-2, 5], [-2, 0], [0, -2], [3, -2], [0, 1], [3, 1], [1, 0]]\n",
      "[[3, 0], [1, 5]]\n",
      "[[3, 0], [1, 5], [0, 0]]\n",
      "[[3, 0], [1, 5], [0, 0], [0, 1]]\n",
      "PARENT [1, 0]\n",
      "\n",
      "[1, 5] [[3, 0], [3, 5], [0, 5], [0, 0], [3, 2], [0, 2], [2, 0], [2, 5], [0, 0], [0, 3], [3, 3], [-2, 5], [-2, 0], [0, -2], [3, -2], [0, 1], [3, 1], [1, 0], [1, 5]]\n",
      "[[3, 5]]\n",
      "[[3, 5], [0, 5], [1, 0]]\n",
      "[[3, 5], [0, 5], [1, 0], [3, 2]]\n",
      "PARENT [0, 0]\n",
      "\n",
      "[0, 5] [[3, 0], [3, 5], [0, 5], [0, 0], [3, 2], [0, 2], [2, 0], [2, 5], [0, 0], [0, 3], [3, 3], [-2, 5], [-2, 0], [0, -2], [3, -2], [0, 1], [3, 1], [1, 0], [1, 5], [0, 5]]\n",
      "[[3, 5]]\n",
      "[[3, 5], [0, 0]]\n",
      "[[3, 5], [0, 0], [3, 2]]\n"
     ]
    }
   ],
   "source": [
    "capacities = [3,5]\n",
    "volumes = [0,0]\n",
    "target = 4\n",
    "\n",
    "def search(capacities,volumes,target,move_count):\n",
    "    print(volumes,move_count)\n",
    "    new_instances = []\n",
    "    for idx,value in enumerate(volumes):\n",
    "        volumes_copy = volumes[:]\n",
    "        if value != capacities[idx]:\n",
    "            volumes_copy[idx] = capacities[idx]\n",
    "            #print(\"FILL\",volumes_copy,idx)\n",
    "            new_instances.append(volumes_copy)\n",
    "    print(new_instances)\n",
    "    for idx,value in enumerate(volumes):\n",
    "        volumes_copy = volumes[:]\n",
    "        if value != 0:\n",
    "            volumes_copy[idx] = 0\n",
    "            #print(\"EMPTY\",volumes_copy,idx)\n",
    "            new_instances.append(volumes_copy)\n",
    "    print(new_instances)\n",
    "    for a in range(len(volumes)):\n",
    "        for b in range(len(volumes)):\n",
    "            copy = volumes[:]\n",
    "            if a != b and copy[a] != 0 and copy[b] != capacities[b]:\n",
    "                if volumes[a]+volumes[b] > capacities[b]:\n",
    "                    copy[b] = capacities[b]\n",
    "                    copy[a] = volumes[a]-capacities[b]\n",
    "                else:\n",
    "                    copy[b] = volumes[a]+volumes[b]\n",
    "                    copy[a] = 0\n",
    "                #print(\"YO\",copy)\n",
    "                new_instances.append(copy)\n",
    "    print(new_instances)\n",
    "    if any([target in volume for volume in new_instances]):\n",
    "        return True\n",
    "    new_instances = [instance for instance in new_instances if instance != volumes and not(instance in move_count)]\n",
    "    for instance in new_instances:\n",
    "        move_count.append(instance)\n",
    "        my_move_count = move_count\n",
    "        print(\"PARENT\",volumes)\n",
    "        print()\n",
    "        search(capacities,instance,target,my_move_count)\n",
    "\n",
    "search(capacities,volumes,target,[])\n",
    "    "
   ]
  },
  {
   "cell_type": "code",
   "execution_count": 14,
   "metadata": {},
   "outputs": [
    {
     "name": "stdout",
     "output_type": "stream",
     "text": [
      "10\n"
     ]
    }
   ],
   "source": [
    "def search(num):\n",
    "    num += 1\n",
    "    if num >= 10:\n",
    "        print(num)\n",
    "        return num\n",
    "    search(num)\n",
    "    \n",
    "a = search(1)\n",
    "a"
   ]
  },
  {
   "cell_type": "code",
   "execution_count": 11,
   "metadata": {},
   "outputs": [
    {
     "name": "stdout",
     "output_type": "stream",
     "text": [
      "None\n"
     ]
    }
   ],
   "source": [
    "print(a)"
   ]
  },
  {
   "cell_type": "code",
   "execution_count": 30,
   "metadata": {},
   "outputs": [
    {
     "name": "stdout",
     "output_type": "stream",
     "text": [
      "3 2\n",
      "B\n",
      "[0, 5]\n"
     ]
    }
   ],
   "source": [
    "x = [3,2]\n",
    "cap = [3,5]\n",
    "\n",
    "for a in range(len(x)):\n",
    "    for b in range(len(x)):\n",
    "        copy = x[:]\n",
    "        if a != b and copy[a] != 0 and copy[b] != cap[b]:\n",
    "            print(x[a],x[b])\n",
    "            if x[a]+x[b] > cap[b]:\n",
    "                print(\"A\")\n",
    "                copy[b] = cap[b]\n",
    "                value = cap[b]\n",
    "            else:\n",
    "                print(\"B\")\n",
    "                copy[b] = x[a]+x[b]\n",
    "                value = x[a]\n",
    "            copy[a] = x[a]-value\n",
    "            print(copy)"
   ]
  },
  {
   "cell_type": "code",
   "execution_count": 37,
   "metadata": {},
   "outputs": [
    {
     "name": "stdout",
     "output_type": "stream",
     "text": [
      "0,0,\n"
     ]
    }
   ],
   "source": [
    "print(setups[4])"
   ]
  },
  {
   "cell_type": "code",
   "execution_count": 11,
   "metadata": {},
   "outputs": [
    {
     "data": {
      "text/plain": [
       "[None, None]"
      ]
     },
     "execution_count": 11,
     "metadata": {},
     "output_type": "execute_result"
    }
   ],
   "source": [
    "jars = [Jar(x) for x in capacities]\n",
    "[jar.fill() for jar in jars]"
   ]
  },
  {
   "cell_type": "code",
   "execution_count": null,
   "metadata": {},
   "outputs": [],
   "source": [
    "any()"
   ]
  }
 ],
 "metadata": {
  "interpreter": {
   "hash": "5d591f94785818b435df4881258bbd57da528693019fb2c63deaaf29b9986dd3"
  },
  "kernelspec": {
   "display_name": "Python 3.8.3 ('base')",
   "language": "python",
   "name": "python3"
  },
  "language_info": {
   "codemirror_mode": {
    "name": "ipython",
    "version": 3
   },
   "file_extension": ".py",
   "mimetype": "text/x-python",
   "name": "python",
   "nbconvert_exporter": "python",
   "pygments_lexer": "ipython3",
   "version": "3.8.3"
  },
  "orig_nbformat": 4
 },
 "nbformat": 4,
 "nbformat_minor": 2
}
